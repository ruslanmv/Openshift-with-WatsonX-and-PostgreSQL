{
 "cells": [
  {
   "cell_type": "markdown",
   "id": "d6f06e75-0ef2-414b-87e4-ced58f1f57cc",
   "metadata": {},
   "source": [
    "# Openshift with WatsonX and PosgreSQL for RAG"
   ]
  },
  {
   "cell_type": "code",
   "execution_count": 3,
   "id": "16a92d0f-9a71-4bc0-b309-7c168d377585",
   "metadata": {
    "tags": []
   },
   "outputs": [],
   "source": [
    "from IPython.display import clear_output\n",
    "!pip install --upgrade pip\n",
    "!pip install \"langchain==0.0.345\" \n",
    "!pip install wget \n",
    "!pip install sentence-transformers \n",
    "!pip install \"chromadb==0.3.26\" \n",
    "!pip install \"ibm-watson-machine-learning>=1.0.333\" \n",
    "!pip install pydantic==1.10.11\n",
    "!pip install python-dotenv\n",
    "!pip install typing-inspect==0.8.0\n",
    "#!pip install typing_extensions==4.5.0\n",
    "!pip install psycopg2-binary\n",
    "!pip install pypdf\n",
    "!pip install pgvector\n",
    "\n",
    "clear_output()"
   ]
  },
  {
   "cell_type": "code",
   "execution_count": 4,
   "id": "3b10e151",
   "metadata": {},
   "outputs": [],
   "source": [
    "#!pip install langchain_community\n",
    "#!pip install langchain ibm-watson-machine-learning --upgrade"
   ]
  },
  {
   "cell_type": "code",
   "execution_count": 5,
   "id": "12d9bee9-b9b8-4eb6-8dab-b1ed2bae0bcb",
   "metadata": {
    "tags": []
   },
   "outputs": [
    {
     "data": {
      "text/plain": [
       "True"
      ]
     },
     "execution_count": 5,
     "metadata": {},
     "output_type": "execute_result"
    }
   ],
   "source": [
    "import os, getpass\n",
    "from dotenv import load_dotenv\n",
    "load_dotenv()"
   ]
  },
  {
   "cell_type": "code",
   "execution_count": null,
   "id": "9db150df-72b0-46f4-ba35-068318ee621a",
   "metadata": {
    "tags": []
   },
   "outputs": [],
   "source": [
    "project_id = os.getenv(\"PROJECT_ID\", None)\n",
    "credentials = {\n",
    "    #\"url\":  \"https://eu-de.ml.cloud.ibm.com\",\n",
    "    \"url\": \"https://us-south.ml.cloud.ibm.com\",\n",
    "    \"apikey\": os.getenv(\"API_KEY\", None)\n",
    "}"
   ]
  },
  {
   "cell_type": "code",
   "execution_count": null,
   "id": "655a2fa4-6c2d-4430-87b4-f0435ed1c409",
   "metadata": {
    "tags": []
   },
   "outputs": [],
   "source": [
    "try:\n",
    "    project_id = os.environ[\"PROJECT_ID\"]\n",
    "except KeyError:\n",
    "    project_id = input(\"Please enter your project_id (hit enter): \")"
   ]
  },
  {
   "cell_type": "code",
   "execution_count": null,
   "id": "9d91af51-d208-4206-9aa6-0f5c7cf35639",
   "metadata": {
    "tags": []
   },
   "outputs": [],
   "source": [
    "import wget\n",
    "filename = 'state_of_the_union.txt'\n",
    "url = 'https://raw.github.com/IBM/watson-machine-learning-samples/master/cloud/data/foundation_models/state_of_the_union.txt'\n",
    "if not os.path.isfile(filename):\n",
    "    wget.download(url, out=filename)"
   ]
  },
  {
   "cell_type": "code",
   "execution_count": null,
   "id": "6ad11cea-c99e-4706-9466-61a0df55b306",
   "metadata": {
    "tags": []
   },
   "outputs": [],
   "source": [
    "from langchain.document_loaders import TextLoader\n",
    "from langchain.text_splitter import CharacterTextSplitter\n",
    "loader = TextLoader(filename ,encoding='utf-8')\n",
    "documents = loader.load()"
   ]
  },
  {
   "cell_type": "code",
   "execution_count": null,
   "id": "34b173ed-72e7-48bc-936d-8d388d806ed0",
   "metadata": {
    "tags": []
   },
   "outputs": [],
   "source": [
    "text_splitter = CharacterTextSplitter(chunk_size=1000, chunk_overlap=0)\n",
    "texts = text_splitter.split_documents(documents)"
   ]
  },
  {
   "cell_type": "code",
   "execution_count": null,
   "id": "1183f5d9-cce1-4d22-808d-8f9a43b169ae",
   "metadata": {
    "tags": []
   },
   "outputs": [],
   "source": [
    "import os\n",
    "from dotenv import load_dotenv\n",
    "# Load the .env file\n",
    "load_dotenv()\n",
    "# Get the values from the .env file\n",
    "user = os.getenv(\"user\")\n",
    "password = os.getenv(\"password\")\n",
    "database = os.getenv(\"database\")\n",
    "server = os.getenv(\"server\")\n",
    "print(\"User:\", user)\n",
    "print(\"Database:\", database)"
   ]
  },
  {
   "cell_type": "code",
   "execution_count": null,
   "id": "982aa1e7-87e3-4aae-8a17-0e3c4bf98cd1",
   "metadata": {
    "tags": []
   },
   "outputs": [],
   "source": [
    "# Construct the connection string\n",
    "CONNECTION_STRING = f\"postgresql+psycopg://{user}:{password}@{server}/{database}\"\n",
    "#CONNECTION_STRING = f\"postgresql://{user}:{password}@{server}/{database}\"\n",
    "# Print the connection string\n",
    "#print(CONNECTION_STRING)"
   ]
  },
  {
   "cell_type": "code",
   "execution_count": null,
   "id": "6a076393-cce7-4a6b-aadf-1763011bea24",
   "metadata": {
    "tags": []
   },
   "outputs": [],
   "source": [
    "user = \"testuser\"\n",
    "password =\"testpwd\"\n",
    "database = \"vectordb\"\n",
    "#server = \"af651cca01b154fe28a0df0167cad5a7-844854289.us-east-2.elb.amazonaws.com\"\n",
    "server=\"localhost\"\n",
    "# Construct the connection string\n",
    "CONNECTION_STRING = f\"postgresql+psycopg://{user}:{password}@{server}:5432/{database}\"\n",
    "# Print the connection string\n",
    "print(CONNECTION_STRING)"
   ]
  },
  {
   "cell_type": "code",
   "execution_count": null,
   "id": "d3b12014-22f6-49ee-b34d-bf74aeb8b313",
   "metadata": {
    "tags": []
   },
   "outputs": [],
   "source": [
    "import psycopg2\n",
    "\n",
    "conn = psycopg2.connect(\n",
    "    host=server,\n",
    "    database=database,\n",
    "    user=user,\n",
    "    password=password\n",
    ")\n",
    "\n",
    "cur = conn.cursor()\n",
    "cur.execute(\"SELECT 1\")\n",
    "print(cur.fetchone())  # Should print (1,)\n",
    "conn.close()\n"
   ]
  },
  {
   "cell_type": "code",
   "execution_count": null,
   "id": "f06d4695-a9ee-4397-8177-aee0b6777667",
   "metadata": {
    "tags": []
   },
   "outputs": [],
   "source": [
    "import os\n",
    "from dotenv import load_dotenv\n",
    "import psycopg2\n",
    "\n",
    "# Construct the connection string\n",
    "CONNECTION_STRING = f\"postgresql://{user}:{password}@{server}/{database}\"\n",
    "print(CONNECTION_STRING)"
   ]
  },
  {
   "cell_type": "code",
   "execution_count": null,
   "id": "fc1bc605-5e96-4333-999b-4395c3585362",
   "metadata": {
    "tags": []
   },
   "outputs": [],
   "source": [
    "# Create a connection to the database\n",
    "conn = psycopg2.connect(CONNECTION_STRING)\n",
    "# Create a cursor object to execute queries\n",
    "cur = conn.cursor()\n",
    "# Execute the SQL command\n",
    "cur.execute(\"\"\"\n",
    "    CREATE EXTENSION IF NOT EXISTS vector;\n",
    "    CREATE TABLE IF NOT EXISTS embeddings (\n",
    "      id SERIAL PRIMARY KEY,\n",
    "      embedding vector,\n",
    "      text text,\n",
    "      created_at timestamptz DEFAULT now()\n",
    "    );\n",
    "\"\"\")\n",
    "\n",
    "# Commit the changes\n",
    "conn.commit()\n",
    "\n",
    "# Close the cursor and connection\n",
    "cur.close()\n",
    "conn.close()"
   ]
  },
  {
   "cell_type": "code",
   "execution_count": null,
   "id": "1cbfe2e0-e245-498b-a5c7-f9d96759e8d3",
   "metadata": {
    "tags": []
   },
   "outputs": [],
   "source": [
    "# Create a connection to the database\n",
    "conn = psycopg2.connect(CONNECTION_STRING)\n",
    "\n",
    "# Create a cursor object to execute queries\n",
    "cur = conn.cursor()\n",
    "\n",
    "# Check if the table exists\n",
    "cur.execute(\"SELECT EXISTS (SELECT 1 FROM information_schema.tables WHERE table_name = 'embeddings')\")\n",
    "table_exists = cur.fetchone()[0]\n",
    "\n",
    "if table_exists:\n",
    "    print(\"Table 'embeddings' exists!\")\n",
    "else:\n",
    "    print(\"Table 'embeddings' does not exist.\")\n",
    "\n",
    "# Get the schema of the table\n",
    "cur.execute(\"SELECT column_name, data_type FROM information_schema.columns WHERE table_name = 'embeddings'\")\n",
    "schema = cur.fetchall()\n",
    "\n",
    "print(\"Schema of table 'embeddings':\")\n",
    "for column in schema:\n",
    "    print(f\"  {column[0]}: {column[1]}\")\n",
    "\n",
    "# Close the cursor and connection\n",
    "cur.close()\n",
    "conn.close()"
   ]
  },
  {
   "cell_type": "code",
   "execution_count": null,
   "id": "c964eb5a-34a2-4cc4-b55a-f98591f78849",
   "metadata": {
    "tags": []
   },
   "outputs": [],
   "source": [
    "from langchain.document_loaders import PyPDFDirectoryLoader\n",
    "from langchain.text_splitter import RecursiveCharacterTextSplitter\n",
    "from langchain.embeddings.huggingface import HuggingFaceEmbeddings\n",
    "from langchain.vectorstores.pgvector import PGVector"
   ]
  },
  {
   "cell_type": "code",
   "execution_count": null,
   "id": "66eabdce-f5a0-4f7d-b9fc-fba8251f0e15",
   "metadata": {
    "tags": []
   },
   "outputs": [],
   "source": [
    "import os\n",
    "import wget\n",
    "\n",
    "pdf_folder_path = './rhods-doc'\n",
    "filename = 'Vector_database.pdf'\n",
    "url = 'https://github.com/ruslanmv/WatsonX-with-Langchain-PostgreSQL-with-pgvector/raw/master/rhods-doc/Vector_database.pdf'\n",
    "\n",
    "# Create the directory if it doesn't exist\n",
    "if not os.path.exists(pdf_folder_path):\n",
    "    os.makedirs(pdf_folder_path)\n",
    "\n",
    "full_path = os.path.join(pdf_folder_path, filename)\n",
    "\n",
    "if not os.path.isfile(full_path):\n",
    "    wget.download(url, out=full_path)\n"
   ]
  },
  {
   "cell_type": "code",
   "execution_count": null,
   "id": "c47a71b2-3ad1-4a32-90e2-3ccc763ad899",
   "metadata": {
    "tags": []
   },
   "outputs": [],
   "source": [
    "\n",
    "loader = PyPDFDirectoryLoader(pdf_folder_path)\n",
    "docs = loader.load()"
   ]
  },
  {
   "cell_type": "code",
   "execution_count": null,
   "id": "bd09ecda-d04b-4674-8014-cf4e94b8ba3e",
   "metadata": {
    "tags": []
   },
   "outputs": [],
   "source": [
    "text_splitter = RecursiveCharacterTextSplitter(chunk_size=1024,\n",
    "                                               chunk_overlap=40)\n",
    "all_splits_pdfs = text_splitter.split_documents(docs)\n"
   ]
  },
  {
   "cell_type": "code",
   "execution_count": null,
   "id": "b438848a-d093-4244-8742-a707fd81d8bc",
   "metadata": {
    "tags": []
   },
   "outputs": [],
   "source": [
    "all_splits_pdfs[0]"
   ]
  },
  {
   "cell_type": "code",
   "execution_count": null,
   "id": "326d0b9b-f8da-45da-939b-5b591653b891",
   "metadata": {
    "tags": []
   },
   "outputs": [],
   "source": [
    "for doc in all_splits_pdfs:\n",
    "    doc.page_content = doc.page_content.replace('\\x00', '')"
   ]
  },
  {
   "cell_type": "code",
   "execution_count": null,
   "id": "e5236f1f-91a8-426b-92ab-719d2a58f984",
   "metadata": {
    "tags": []
   },
   "outputs": [],
   "source": [
    "embeddings = HuggingFaceEmbeddings()\n",
    "\n",
    "COLLECTION_NAME = \"documents_test\"\n",
    "\n",
    "db = PGVector.from_documents(\n",
    "    documents=all_splits_pdfs,\n",
    "    embedding=embeddings,\n",
    "    collection_name=COLLECTION_NAME,\n",
    "    connection_string=CONNECTION_STRING,)"
   ]
  },
  {
   "cell_type": "code",
   "execution_count": null,
   "id": "921eb1b1-7b34-45f8-b368-76cb99763e4d",
   "metadata": {
    "tags": []
   },
   "outputs": [],
   "source": [
    "from ibm_watson_machine_learning.foundation_models.utils.enums import ModelTypes"
   ]
  },
  {
   "cell_type": "code",
   "execution_count": null,
   "id": "42b536a4-07ee-489f-aa3e-9e44b4a65b3b",
   "metadata": {
    "tags": []
   },
   "outputs": [],
   "source": [
    "model_id = ModelTypes.GRANITE_13B_CHAT"
   ]
  },
  {
   "cell_type": "code",
   "execution_count": null,
   "id": "2b2980c2-c110-4cfb-8c1c-be4dafe6157e",
   "metadata": {
    "tags": []
   },
   "outputs": [],
   "source": [
    "model_id ='ibm/granite-13b-chat-v1'"
   ]
  },
  {
   "cell_type": "code",
   "execution_count": 1,
   "id": "3a6a2323-8d27-47d4-b4ad-921fea3f284f",
   "metadata": {
    "tags": []
   },
   "outputs": [],
   "source": [
    "from ibm_watson_machine_learning.metanames import GenTextParamsMetaNames as GenParams\n",
    "from ibm_watson_machine_learning.foundation_models.utils.enums import DecodingMethods\n",
    "import os \n"
   ]
  },
  {
   "cell_type": "code",
   "execution_count": 2,
   "id": "2510a9b3",
   "metadata": {},
   "outputs": [
    {
     "data": {
      "text/plain": [
       "True"
      ]
     },
     "execution_count": 2,
     "metadata": {},
     "output_type": "execute_result"
    }
   ],
   "source": [
    "import os, getpass\n",
    "from dotenv import load_dotenv\n",
    "load_dotenv()"
   ]
  },
  {
   "cell_type": "code",
   "execution_count": 3,
   "id": "a61727d4-1426-4d18-9101-aace3a845563",
   "metadata": {
    "tags": []
   },
   "outputs": [],
   "source": [
    "project_id = os.getenv(\"PROJECT_ID\", None)\n",
    "credentials = {\n",
    "    #\"url\":  \"https://eu-de.ml.cloud.ibm.com\",\n",
    "    \"url\": \"https://us-south.ml.cloud.ibm.com\",\n",
    "    \"apikey\": os.getenv(\"API_KEY\", None)\n",
    "}"
   ]
  },
  {
   "cell_type": "code",
   "execution_count": 4,
   "id": "f3c83869-0674-4571-915f-b1f2af5ded17",
   "metadata": {
    "tags": []
   },
   "outputs": [],
   "source": [
    "# Create an instance of WatsonxLLM\n",
    "# WatsonxLLM initialization\n",
    "parameters = {\n",
    "    GenParams.DECODING_METHOD: DecodingMethods.SAMPLE.value,\n",
    "    GenParams.MAX_NEW_TOKENS: 1000,\n",
    "    GenParams.MIN_NEW_TOKENS: 50,\n",
    "    GenParams.TEMPERATURE: 0.7,\n",
    "    GenParams.TOP_K: 50,\n",
    "    GenParams.TOP_P: 1\n",
    "}"
   ]
  },
  {
   "cell_type": "code",
   "execution_count": 5,
   "id": "129de63e",
   "metadata": {},
   "outputs": [],
   "source": [
    "parameters = {\n",
    "    GenParams.DECODING_METHOD: DecodingMethods.GREEDY,\n",
    "    GenParams.MIN_NEW_TOKENS: 1,\n",
    "    GenParams.MAX_NEW_TOKENS: 200,\n",
    "    GenParams.STOP_SEQUENCES: [\"<|endoftext|>\"]\n",
    "}"
   ]
  },
  {
   "cell_type": "code",
   "execution_count": 10,
   "id": "426548d5-e626-491f-b3b1-26fafca0376a",
   "metadata": {
    "tags": []
   },
   "outputs": [
    {
     "ename": "ImportError",
     "evalue": "cannot import name 'WatsonxLLM' from 'langchain.llms' (c:\\Users\\rusla\\.conda\\envs\\openshift\\lib\\site-packages\\langchain\\llms\\__init__.py)",
     "output_type": "error",
     "traceback": [
      "\u001b[1;31m---------------------------------------------------------------------------\u001b[0m",
      "\u001b[1;31mImportError\u001b[0m                               Traceback (most recent call last)",
      "Cell \u001b[1;32mIn[10], line 3\u001b[0m\n\u001b[0;32m      1\u001b[0m \u001b[38;5;28;01mfrom\u001b[39;00m \u001b[38;5;21;01mibm_watson_machine_learning\u001b[39;00m\u001b[38;5;21;01m.\u001b[39;00m\u001b[38;5;21;01mmetanames\u001b[39;00m \u001b[38;5;28;01mimport\u001b[39;00m GenTextParamsMetaNames \u001b[38;5;28;01mas\u001b[39;00m GenParams\n\u001b[0;32m      2\u001b[0m \u001b[38;5;28;01mfrom\u001b[39;00m \u001b[38;5;21;01mibm_watson_machine_learning\u001b[39;00m\u001b[38;5;21;01m.\u001b[39;00m\u001b[38;5;21;01mfoundation_models\u001b[39;00m\u001b[38;5;21;01m.\u001b[39;00m\u001b[38;5;21;01mutils\u001b[39;00m\u001b[38;5;21;01m.\u001b[39;00m\u001b[38;5;21;01menums\u001b[39;00m \u001b[38;5;28;01mimport\u001b[39;00m DecodingMethods\n\u001b[1;32m----> 3\u001b[0m \u001b[38;5;28;01mfrom\u001b[39;00m \u001b[38;5;21;01mlangchain\u001b[39;00m\u001b[38;5;21;01m.\u001b[39;00m\u001b[38;5;21;01mllms\u001b[39;00m \u001b[38;5;28;01mimport\u001b[39;00m WatsonxLLM\n",
      "\u001b[1;31mImportError\u001b[0m: cannot import name 'WatsonxLLM' from 'langchain.llms' (c:\\Users\\rusla\\.conda\\envs\\openshift\\lib\\site-packages\\langchain\\llms\\__init__.py)"
     ]
    }
   ],
   "source": [
    "from ibm_watson_machine_learning.metanames import GenTextParamsMetaNames as GenParams\n",
    "from ibm_watson_machine_learning.foundation_models.utils.enums import DecodingMethods\n",
    "from langchain.llms import WatsonxLLM"
   ]
  },
  {
   "cell_type": "code",
   "execution_count": 12,
   "id": "ecde7b06",
   "metadata": {},
   "outputs": [
    {
     "ename": "ImportError",
     "evalue": "cannot import name 'WatsonxLLM' from 'ibm_watsonx_ai' (c:\\Users\\rusla\\.conda\\envs\\openshift\\lib\\site-packages\\ibm_watsonx_ai\\__init__.py)",
     "output_type": "error",
     "traceback": [
      "\u001b[1;31m---------------------------------------------------------------------------\u001b[0m",
      "\u001b[1;31mImportError\u001b[0m                               Traceback (most recent call last)",
      "Cell \u001b[1;32mIn[12], line 1\u001b[0m\n\u001b[1;32m----> 1\u001b[0m \u001b[38;5;28;01mfrom\u001b[39;00m \u001b[38;5;21;01mibm_watsonx_ai\u001b[39;00m \u001b[38;5;28;01mimport\u001b[39;00m WatsonxLLM\n",
      "\u001b[1;31mImportError\u001b[0m: cannot import name 'WatsonxLLM' from 'ibm_watsonx_ai' (c:\\Users\\rusla\\.conda\\envs\\openshift\\lib\\site-packages\\ibm_watsonx_ai\\__init__.py)"
     ]
    }
   ],
   "source": [
    "from ibm_watsonx_ai import WatsonxLLM"
   ]
  },
  {
   "cell_type": "code",
   "execution_count": 9,
   "id": "0a5acdd5",
   "metadata": {},
   "outputs": [
    {
     "name": "stdout",
     "output_type": "stream",
     "text": [
      "Collecting ibm_watsonx_ai\n",
      "  Using cached ibm_watsonx_ai-0.0.5-py3-none-any.whl.metadata (8.2 kB)\n",
      "Requirement already satisfied: ibm-watson-machine-learning in c:\\users\\rusla\\.conda\\envs\\openshift\\lib\\site-packages (from ibm_watsonx_ai) (1.0.333)\n",
      "Requirement already satisfied: requests in c:\\users\\rusla\\.conda\\envs\\openshift\\lib\\site-packages (from ibm-watson-machine-learning->ibm_watsonx_ai) (2.32.2)\n",
      "Requirement already satisfied: urllib3 in c:\\users\\rusla\\.conda\\envs\\openshift\\lib\\site-packages (from ibm-watson-machine-learning->ibm_watsonx_ai) (1.26.18)\n",
      "Requirement already satisfied: pandas<1.6.0,>=0.24.2 in c:\\users\\rusla\\.conda\\envs\\openshift\\lib\\site-packages (from ibm-watson-machine-learning->ibm_watsonx_ai) (1.5.3)\n",
      "Requirement already satisfied: certifi in c:\\users\\rusla\\.conda\\envs\\openshift\\lib\\site-packages (from ibm-watson-machine-learning->ibm_watsonx_ai) (2024.6.2)\n",
      "Requirement already satisfied: lomond in c:\\users\\rusla\\.conda\\envs\\openshift\\lib\\site-packages (from ibm-watson-machine-learning->ibm_watsonx_ai) (0.3.3)\n",
      "Requirement already satisfied: tabulate in c:\\users\\rusla\\.conda\\envs\\openshift\\lib\\site-packages (from ibm-watson-machine-learning->ibm_watsonx_ai) (0.9.0)\n",
      "Requirement already satisfied: packaging in c:\\users\\rusla\\.conda\\envs\\openshift\\lib\\site-packages (from ibm-watson-machine-learning->ibm_watsonx_ai) (23.2)\n",
      "Requirement already satisfied: importlib-metadata in c:\\users\\rusla\\.conda\\envs\\openshift\\lib\\site-packages (from ibm-watson-machine-learning->ibm_watsonx_ai) (7.0.1)\n",
      "Requirement already satisfied: ibm-cos-sdk==2.11.* in c:\\users\\rusla\\.conda\\envs\\openshift\\lib\\site-packages (from ibm-watson-machine-learning->ibm_watsonx_ai) (2.11.0)\n",
      "Requirement already satisfied: ibm-cos-sdk-core==2.11.0 in c:\\users\\rusla\\.conda\\envs\\openshift\\lib\\site-packages (from ibm-cos-sdk==2.11.*->ibm-watson-machine-learning->ibm_watsonx_ai) (2.11.0)\n",
      "Requirement already satisfied: ibm-cos-sdk-s3transfer==2.11.0 in c:\\users\\rusla\\.conda\\envs\\openshift\\lib\\site-packages (from ibm-cos-sdk==2.11.*->ibm-watson-machine-learning->ibm_watsonx_ai) (2.11.0)\n",
      "Requirement already satisfied: jmespath<1.0.0,>=0.7.1 in c:\\users\\rusla\\.conda\\envs\\openshift\\lib\\site-packages (from ibm-cos-sdk==2.11.*->ibm-watson-machine-learning->ibm_watsonx_ai) (0.10.0)\n",
      "Requirement already satisfied: python-dateutil<3.0.0,>=2.1 in c:\\users\\rusla\\.conda\\envs\\openshift\\lib\\site-packages (from ibm-cos-sdk-core==2.11.0->ibm-cos-sdk==2.11.*->ibm-watson-machine-learning->ibm_watsonx_ai) (2.9.0.post0)\n",
      "Requirement already satisfied: pytz>=2020.1 in c:\\users\\rusla\\.conda\\envs\\openshift\\lib\\site-packages (from pandas<1.6.0,>=0.24.2->ibm-watson-machine-learning->ibm_watsonx_ai) (2024.1)\n",
      "Requirement already satisfied: numpy>=1.20.3 in c:\\users\\rusla\\.conda\\envs\\openshift\\lib\\site-packages (from pandas<1.6.0,>=0.24.2->ibm-watson-machine-learning->ibm_watsonx_ai) (1.26.4)\n",
      "Requirement already satisfied: charset-normalizer<4,>=2 in c:\\users\\rusla\\.conda\\envs\\openshift\\lib\\site-packages (from requests->ibm-watson-machine-learning->ibm_watsonx_ai) (2.0.4)\n",
      "Requirement already satisfied: idna<4,>=2.5 in c:\\users\\rusla\\.conda\\envs\\openshift\\lib\\site-packages (from requests->ibm-watson-machine-learning->ibm_watsonx_ai) (3.7)\n",
      "Requirement already satisfied: zipp>=0.5 in c:\\users\\rusla\\.conda\\envs\\openshift\\lib\\site-packages (from importlib-metadata->ibm-watson-machine-learning->ibm_watsonx_ai) (3.17.0)\n",
      "Requirement already satisfied: six>=1.10.0 in c:\\users\\rusla\\.conda\\envs\\openshift\\lib\\site-packages (from lomond->ibm-watson-machine-learning->ibm_watsonx_ai) (1.16.0)\n",
      "Using cached ibm_watsonx_ai-0.0.5-py3-none-any.whl (1.3 MB)\n",
      "Installing collected packages: ibm_watsonx_ai\n",
      "Successfully installed ibm_watsonx_ai-0.0.5\n"
     ]
    }
   ],
   "source": [
    "!pip install ibm_watsonx_ai"
   ]
  },
  {
   "cell_type": "code",
   "execution_count": 7,
   "id": "c96f0923",
   "metadata": {},
   "outputs": [],
   "source": [
    "from ibm_watson_machine_learning.foundation_models.utils.enums import ModelTypes"
   ]
  },
  {
   "cell_type": "code",
   "execution_count": 45,
   "id": "731fad20",
   "metadata": {},
   "outputs": [],
   "source": [
    "model_id = ModelTypes.GRANITE_13B_CHAT"
   ]
  },
  {
   "cell_type": "code",
   "execution_count": 46,
   "id": "6d139fc0",
   "metadata": {},
   "outputs": [
    {
     "data": {
      "text/plain": [
       "'ibm/granite-13b-chat-v1'"
      ]
     },
     "execution_count": 46,
     "metadata": {},
     "output_type": "execute_result"
    }
   ],
   "source": [
    "model_id.value"
   ]
  },
  {
   "cell_type": "code",
   "execution_count": 47,
   "id": "68bafc8c",
   "metadata": {},
   "outputs": [],
   "source": [
    "\n",
    "#!pip install https://www.piwheels.org/simple/ibm-watsonx-ai/ibm_watsonx_ai-0.1.1-py3-none-any.whl\n"
   ]
  },
  {
   "cell_type": "code",
   "execution_count": 48,
   "id": "25f9b77c",
   "metadata": {},
   "outputs": [],
   "source": [
    "#!pip install https://www.piwheels.org/simple/ibm-watsonx-ai/ibm_watsonx_ai-1.0.6-py3-none-any.whl"
   ]
  },
  {
   "cell_type": "code",
   "execution_count": 17,
   "id": "0d97c9dd",
   "metadata": {},
   "outputs": [],
   "source": [
    "from typing import Any, List, Mapping, Optional, Union, Dict\n",
    "from langchain.llms.base import LLM"
   ]
  },
  {
   "cell_type": "code",
   "execution_count": 19,
   "id": "c608906c",
   "metadata": {},
   "outputs": [],
   "source": [
    "from langchain.llms.utils import enforce_stop_tokens"
   ]
  },
  {
   "cell_type": "code",
   "execution_count": 20,
   "id": "b5920895",
   "metadata": {},
   "outputs": [],
   "source": [
    "from ibm_watson_machine_learning.foundation_models import Model\n"
   ]
  },
  {
   "cell_type": "code",
   "execution_count": 21,
   "id": "5e5a8062",
   "metadata": {},
   "outputs": [],
   "source": [
    "from ibm_watson_machine_learning.metanames import GenTextParamsMetaNames as GenParams\n"
   ]
  },
  {
   "cell_type": "code",
   "execution_count": 22,
   "id": "3153ee79",
   "metadata": {},
   "outputs": [],
   "source": [
    "from pydantic import BaseModel, Extra"
   ]
  },
  {
   "cell_type": "code",
   "execution_count": 28,
   "id": "c17cc548",
   "metadata": {},
   "outputs": [
    {
     "name": "stdout",
     "output_type": "stream",
     "text": [
      "Requirement already satisfied: langchain in c:\\users\\rusla\\.conda\\envs\\openshift\\lib\\site-packages (0.0.4)\n",
      "Requirement already satisfied: pydantic in c:\\users\\rusla\\.conda\\envs\\openshift\\lib\\site-packages (from langchain) (1.10.11)\n",
      "Requirement already satisfied: sqlalchemy in c:\\users\\rusla\\.conda\\envs\\openshift\\lib\\site-packages (from langchain) (2.0.30)\n",
      "Requirement already satisfied: typing-extensions>=4.2.0 in c:\\users\\rusla\\.conda\\envs\\openshift\\lib\\site-packages (from pydantic->langchain) (4.12.2)\n",
      "Requirement already satisfied: greenlet!=0.4.17 in c:\\users\\rusla\\.conda\\envs\\openshift\\lib\\site-packages (from sqlalchemy->langchain) (3.0.3)\n",
      "Requirement already satisfied: ibm-watson-machine-learning in c:\\users\\rusla\\.conda\\envs\\openshift\\lib\\site-packages (1.0.333)\n",
      "Requirement already satisfied: requests in c:\\users\\rusla\\.conda\\envs\\openshift\\lib\\site-packages (from ibm-watson-machine-learning) (2.32.2)\n",
      "Requirement already satisfied: urllib3 in c:\\users\\rusla\\.conda\\envs\\openshift\\lib\\site-packages (from ibm-watson-machine-learning) (1.26.18)\n",
      "Requirement already satisfied: pandas<1.6.0,>=0.24.2 in c:\\users\\rusla\\.conda\\envs\\openshift\\lib\\site-packages (from ibm-watson-machine-learning) (1.5.3)\n",
      "Requirement already satisfied: certifi in c:\\users\\rusla\\.conda\\envs\\openshift\\lib\\site-packages (from ibm-watson-machine-learning) (2024.6.2)\n",
      "Requirement already satisfied: lomond in c:\\users\\rusla\\.conda\\envs\\openshift\\lib\\site-packages (from ibm-watson-machine-learning) (0.3.3)\n",
      "Requirement already satisfied: tabulate in c:\\users\\rusla\\.conda\\envs\\openshift\\lib\\site-packages (from ibm-watson-machine-learning) (0.9.0)\n",
      "Requirement already satisfied: packaging in c:\\users\\rusla\\.conda\\envs\\openshift\\lib\\site-packages (from ibm-watson-machine-learning) (23.2)\n",
      "Requirement already satisfied: importlib-metadata in c:\\users\\rusla\\.conda\\envs\\openshift\\lib\\site-packages (from ibm-watson-machine-learning) (7.0.1)\n",
      "Requirement already satisfied: ibm-cos-sdk==2.11.* in c:\\users\\rusla\\.conda\\envs\\openshift\\lib\\site-packages (from ibm-watson-machine-learning) (2.11.0)\n",
      "Requirement already satisfied: ibm-cos-sdk-core==2.11.0 in c:\\users\\rusla\\.conda\\envs\\openshift\\lib\\site-packages (from ibm-cos-sdk==2.11.*->ibm-watson-machine-learning) (2.11.0)\n",
      "Requirement already satisfied: ibm-cos-sdk-s3transfer==2.11.0 in c:\\users\\rusla\\.conda\\envs\\openshift\\lib\\site-packages (from ibm-cos-sdk==2.11.*->ibm-watson-machine-learning) (2.11.0)\n",
      "Requirement already satisfied: jmespath<1.0.0,>=0.7.1 in c:\\users\\rusla\\.conda\\envs\\openshift\\lib\\site-packages (from ibm-cos-sdk==2.11.*->ibm-watson-machine-learning) (0.10.0)\n",
      "Requirement already satisfied: python-dateutil<3.0.0,>=2.1 in c:\\users\\rusla\\.conda\\envs\\openshift\\lib\\site-packages (from ibm-cos-sdk-core==2.11.0->ibm-cos-sdk==2.11.*->ibm-watson-machine-learning) (2.9.0.post0)\n",
      "Requirement already satisfied: pytz>=2020.1 in c:\\users\\rusla\\.conda\\envs\\openshift\\lib\\site-packages (from pandas<1.6.0,>=0.24.2->ibm-watson-machine-learning) (2024.1)\n",
      "Requirement already satisfied: numpy>=1.20.3 in c:\\users\\rusla\\.conda\\envs\\openshift\\lib\\site-packages (from pandas<1.6.0,>=0.24.2->ibm-watson-machine-learning) (1.26.4)\n",
      "Requirement already satisfied: charset-normalizer<4,>=2 in c:\\users\\rusla\\.conda\\envs\\openshift\\lib\\site-packages (from requests->ibm-watson-machine-learning) (2.0.4)\n",
      "Requirement already satisfied: idna<4,>=2.5 in c:\\users\\rusla\\.conda\\envs\\openshift\\lib\\site-packages (from requests->ibm-watson-machine-learning) (3.7)\n",
      "Requirement already satisfied: zipp>=0.5 in c:\\users\\rusla\\.conda\\envs\\openshift\\lib\\site-packages (from importlib-metadata->ibm-watson-machine-learning) (3.17.0)\n",
      "Requirement already satisfied: six>=1.10.0 in c:\\users\\rusla\\.conda\\envs\\openshift\\lib\\site-packages (from lomond->ibm-watson-machine-learning) (1.16.0)\n"
     ]
    }
   ],
   "source": [
    "!pip install langchain\n",
    "!pip install ibm-watson-machine-learning"
   ]
  },
  {
   "cell_type": "code",
   "execution_count": 32,
   "id": "397bf18f",
   "metadata": {},
   "outputs": [],
   "source": [
    "load_dotenv()\n",
    "project_id = os.getenv(\"PROJECT_ID\", None)\n",
    "creds = {\n",
    "    \"url\": \"https://us-south.ml.cloud.ibm.com\",\n",
    "    \"apikey\": os.getenv(\"API_KEY\", None)\n",
    "}\n",
    "\n",
    "class WatsonxLLM(LLM, BaseModel):\n",
    "    credentials: Optional[Dict] = None\n",
    "    model: Optional[str] = None\n",
    "    params: Optional[Dict] = None\n",
    "    project_id : Optional[str]=None\n",
    "\n",
    "    class Config:\n",
    "        extra = Extra.forbid\n",
    "\n",
    "    @property\n",
    "    def _identifying_params(self) -> Mapping[str, Any]:\n",
    "        _params = self.params or {}\n",
    "        return {\n",
    "            **{\"model\": self.model},\n",
    "            **{\"params\": _params},\n",
    "        }\n",
    "    \n",
    "    @property\n",
    "    def _llm_type(self) -> str:\n",
    "        return \"IBM WATSONX\"\n",
    "\n",
    "    def _call(self, prompt: str, stop: Optional[List[str]] = None) -> str:\n",
    "        params = self.params or {}\n",
    "        model = Model(model_id=self.model, params=params, credentials=self.credentials, project_id=self.project_id)\n",
    "        text = model.generate_text(prompt)\n",
    "        if stop is not None:\n",
    "            text = enforce_stop_tokens(text, stop)\n",
    "        return text"
   ]
  },
  {
   "cell_type": "code",
   "execution_count": 33,
   "id": "de1a70f4",
   "metadata": {},
   "outputs": [
    {
     "ename": "TypeError",
     "evalue": "Can't instantiate abstract class WatsonxLLM with abstract method __call__",
     "output_type": "error",
     "traceback": [
      "\u001b[1;31m---------------------------------------------------------------------------\u001b[0m",
      "\u001b[1;31mTypeError\u001b[0m                                 Traceback (most recent call last)",
      "Cell \u001b[1;32mIn[33], line 6\u001b[0m\n\u001b[0;32m      1\u001b[0m params \u001b[38;5;241m=\u001b[39m {\n\u001b[0;32m      2\u001b[0m     GenParams\u001b[38;5;241m.\u001b[39mDECODING_METHOD: \u001b[38;5;124m\"\u001b[39m\u001b[38;5;124mgreedy\u001b[39m\u001b[38;5;124m\"\u001b[39m,\n\u001b[0;32m      3\u001b[0m     GenParams\u001b[38;5;241m.\u001b[39mMIN_NEW_TOKENS: \u001b[38;5;241m1\u001b[39m,\n\u001b[0;32m      4\u001b[0m     GenParams\u001b[38;5;241m.\u001b[39mMAX_NEW_TOKENS: \u001b[38;5;241m256\u001b[39m\n\u001b[0;32m      5\u001b[0m }\n\u001b[1;32m----> 6\u001b[0m model \u001b[38;5;241m=\u001b[39m \u001b[43mWatsonxLLM\u001b[49m\u001b[43m(\u001b[49m\u001b[43mmodel\u001b[49m\u001b[38;5;241;43m=\u001b[39;49m\u001b[38;5;124;43m\"\u001b[39;49m\u001b[38;5;124;43mgoogle/flan-t5-xxl\u001b[39;49m\u001b[38;5;124;43m\"\u001b[39;49m\u001b[43m,\u001b[49m\u001b[43m \u001b[49m\u001b[43mcredentials\u001b[49m\u001b[38;5;241;43m=\u001b[39;49m\u001b[43mcreds\u001b[49m\u001b[43m,\u001b[49m\u001b[43m \u001b[49m\u001b[43mparams\u001b[49m\u001b[38;5;241;43m=\u001b[39;49m\u001b[43mparams\u001b[49m\u001b[43m,\u001b[49m\u001b[43m \u001b[49m\u001b[43mproject_id\u001b[49m\u001b[38;5;241;43m=\u001b[39;49m\u001b[43mproject_id\u001b[49m\u001b[43m)\u001b[49m\n\u001b[0;32m      7\u001b[0m text \u001b[38;5;241m=\u001b[39m \u001b[38;5;124m\"\u001b[39m\u001b[38;5;124mWhere is Germany?\u001b[39m\u001b[38;5;124m\"\u001b[39m\n\u001b[0;32m      8\u001b[0m model(text)\n",
      "\u001b[1;31mTypeError\u001b[0m: Can't instantiate abstract class WatsonxLLM with abstract method __call__"
     ]
    }
   ],
   "source": [
    "params = {\n",
    "    GenParams.DECODING_METHOD: \"greedy\",\n",
    "    GenParams.MIN_NEW_TOKENS: 1,\n",
    "    GenParams.MAX_NEW_TOKENS: 256\n",
    "}\n",
    "model = WatsonxLLM(model=\"google/flan-t5-xxl\", credentials=creds, params=params, project_id=project_id)\n",
    "text = \"Where is Germany?\"\n",
    "model(text)"
   ]
  },
  {
   "cell_type": "code",
   "execution_count": 34,
   "id": "594f6e6b",
   "metadata": {},
   "outputs": [
    {
     "ename": "Error",
     "evalue": "Incorrect padding",
     "output_type": "error",
     "traceback": [
      "\u001b[1;31m---------------------------------------------------------------------------\u001b[0m",
      "\u001b[1;31mError\u001b[0m                                     Traceback (most recent call last)",
      "Cell \u001b[1;32mIn[34], line 46\u001b[0m\n\u001b[0;32m     44\u001b[0m model \u001b[38;5;241m=\u001b[39m WatsonxLLM(model\u001b[38;5;241m=\u001b[39m\u001b[38;5;124m\"\u001b[39m\u001b[38;5;124mgoogle/flan-t5-xxl\u001b[39m\u001b[38;5;124m\"\u001b[39m, credentials\u001b[38;5;241m=\u001b[39mcreds, params\u001b[38;5;241m=\u001b[39mparams, project_id\u001b[38;5;241m=\u001b[39mproject_id)\n\u001b[0;32m     45\u001b[0m text \u001b[38;5;241m=\u001b[39m \u001b[38;5;124m\"\u001b[39m\u001b[38;5;124mWhere is Germany?\u001b[39m\u001b[38;5;124m\"\u001b[39m\n\u001b[1;32m---> 46\u001b[0m result \u001b[38;5;241m=\u001b[39m \u001b[43mmodel\u001b[49m\u001b[43m(\u001b[49m\u001b[43mtext\u001b[49m\u001b[43m)\u001b[49m  \u001b[38;5;66;03m# This should call the __call__ method\u001b[39;00m\n\u001b[0;32m     47\u001b[0m \u001b[38;5;28mprint\u001b[39m(result)\n",
      "Cell \u001b[1;32mIn[34], line 32\u001b[0m, in \u001b[0;36mWatsonxLLM.__call__\u001b[1;34m(self, prompt, stop)\u001b[0m\n\u001b[0;32m     30\u001b[0m \u001b[38;5;28;01mdef\u001b[39;00m \u001b[38;5;21m__call__\u001b[39m(\u001b[38;5;28mself\u001b[39m, prompt: \u001b[38;5;28mstr\u001b[39m, stop: Optional[List[\u001b[38;5;28mstr\u001b[39m]] \u001b[38;5;241m=\u001b[39m \u001b[38;5;28;01mNone\u001b[39;00m) \u001b[38;5;241m-\u001b[39m\u001b[38;5;241m>\u001b[39m \u001b[38;5;28mstr\u001b[39m:\n\u001b[0;32m     31\u001b[0m     params \u001b[38;5;241m=\u001b[39m \u001b[38;5;28mself\u001b[39m\u001b[38;5;241m.\u001b[39mparams \u001b[38;5;129;01mor\u001b[39;00m {}\n\u001b[1;32m---> 32\u001b[0m     model \u001b[38;5;241m=\u001b[39m \u001b[43mModel\u001b[49m\u001b[43m(\u001b[49m\u001b[43mmodel_id\u001b[49m\u001b[38;5;241;43m=\u001b[39;49m\u001b[38;5;28;43mself\u001b[39;49m\u001b[38;5;241;43m.\u001b[39;49m\u001b[43mmodel\u001b[49m\u001b[43m,\u001b[49m\u001b[43m \u001b[49m\u001b[43mparams\u001b[49m\u001b[38;5;241;43m=\u001b[39;49m\u001b[43mparams\u001b[49m\u001b[43m,\u001b[49m\u001b[43m \u001b[49m\u001b[43mcredentials\u001b[49m\u001b[38;5;241;43m=\u001b[39;49m\u001b[38;5;28;43mself\u001b[39;49m\u001b[38;5;241;43m.\u001b[39;49m\u001b[43mcredentials\u001b[49m\u001b[43m,\u001b[49m\u001b[43m \u001b[49m\u001b[43mproject_id\u001b[49m\u001b[38;5;241;43m=\u001b[39;49m\u001b[38;5;28;43mself\u001b[39;49m\u001b[38;5;241;43m.\u001b[39;49m\u001b[43mproject_id\u001b[49m\u001b[43m)\u001b[49m\n\u001b[0;32m     33\u001b[0m     text \u001b[38;5;241m=\u001b[39m model\u001b[38;5;241m.\u001b[39mgenerate_text(prompt)\n\u001b[0;32m     34\u001b[0m     \u001b[38;5;28;01mif\u001b[39;00m stop \u001b[38;5;129;01mis\u001b[39;00m \u001b[38;5;129;01mnot\u001b[39;00m \u001b[38;5;28;01mNone\u001b[39;00m:\n",
      "File \u001b[1;32mc:\\Users\\rusla\\.conda\\envs\\openshift\\lib\\site-packages\\ibm_watson_machine_learning\\foundation_models\\model.py:100\u001b[0m, in \u001b[0;36mModel.__init__\u001b[1;34m(self, model_id, credentials, params, project_id, space_id, verify)\u001b[0m\n\u001b[0;32m     98\u001b[0m \u001b[38;5;28mself\u001b[39m\u001b[38;5;241m.\u001b[39mproject_id \u001b[38;5;241m=\u001b[39m project_id\n\u001b[0;32m     99\u001b[0m \u001b[38;5;28mself\u001b[39m\u001b[38;5;241m.\u001b[39mspace_id \u001b[38;5;241m=\u001b[39m space_id\n\u001b[1;32m--> 100\u001b[0m \u001b[38;5;28mself\u001b[39m\u001b[38;5;241m.\u001b[39m_client \u001b[38;5;241m=\u001b[39m \u001b[43mAPIClient\u001b[49m\u001b[43m(\u001b[49m\u001b[43mcredentials\u001b[49m\u001b[43m,\u001b[49m\u001b[43m \u001b[49m\u001b[43mverify\u001b[49m\u001b[38;5;241;43m=\u001b[39;49m\u001b[43mverify\u001b[49m\u001b[43m)\u001b[49m\n\u001b[0;32m    102\u001b[0m Model\u001b[38;5;241m.\u001b[39m_validate_type(params, \u001b[38;5;124mu\u001b[39m\u001b[38;5;124m'\u001b[39m\u001b[38;5;124mparams\u001b[39m\u001b[38;5;124m'\u001b[39m, \u001b[38;5;28mdict\u001b[39m, \u001b[38;5;28;01mFalse\u001b[39;00m)\n\u001b[0;32m    104\u001b[0m \u001b[38;5;28;01mif\u001b[39;00m \u001b[38;5;129;01mnot\u001b[39;00m \u001b[38;5;28mself\u001b[39m\u001b[38;5;241m.\u001b[39m_client\u001b[38;5;241m.\u001b[39mCLOUD_PLATFORM_SPACES \u001b[38;5;129;01mand\u001b[39;00m \u001b[38;5;28mself\u001b[39m\u001b[38;5;241m.\u001b[39m_client\u001b[38;5;241m.\u001b[39mCPD_version \u001b[38;5;241m<\u001b[39m \u001b[38;5;241m4.8\u001b[39m:\n",
      "File \u001b[1;32mc:\\Users\\rusla\\.conda\\envs\\openshift\\lib\\site-packages\\ibm_watson_machine_learning\\client.py:377\u001b[0m, in \u001b[0;36mAPIClient.__init__\u001b[1;34m(self, wml_credentials, project_id, verify)\u001b[0m\n\u001b[0;32m    373\u001b[0m     \u001b[38;5;28mself\u001b[39m\u001b[38;5;241m.\u001b[39mservice_instance\u001b[38;5;241m.\u001b[39mdetails \u001b[38;5;241m=\u001b[39m \u001b[38;5;28mself\u001b[39m\u001b[38;5;241m.\u001b[39mservice_instance\u001b[38;5;241m.\u001b[39mget_details()\n\u001b[0;32m    375\u001b[0m \u001b[38;5;28mself\u001b[39m\u001b[38;5;241m.\u001b[39mset \u001b[38;5;241m=\u001b[39m Set(\u001b[38;5;28mself\u001b[39m)\n\u001b[1;32m--> 377\u001b[0m \u001b[38;5;28mself\u001b[39m\u001b[38;5;241m.\u001b[39mspaces \u001b[38;5;241m=\u001b[39m \u001b[43mPlatformSpaces\u001b[49m\u001b[43m(\u001b[49m\u001b[38;5;28;43mself\u001b[39;49m\u001b[43m)\u001b[49m\n\u001b[0;32m    379\u001b[0m \u001b[38;5;28mself\u001b[39m\u001b[38;5;241m.\u001b[39mexport_assets \u001b[38;5;241m=\u001b[39m Export(\u001b[38;5;28mself\u001b[39m)\n\u001b[0;32m    380\u001b[0m \u001b[38;5;28mself\u001b[39m\u001b[38;5;241m.\u001b[39mimport_assets \u001b[38;5;241m=\u001b[39m Import(\u001b[38;5;28mself\u001b[39m)\n",
      "File \u001b[1;32mc:\\Users\\rusla\\.conda\\envs\\openshift\\lib\\site-packages\\ibm_watson_machine_learning\\platform_spaces.py:34\u001b[0m, in \u001b[0;36mPlatformSpaces.__init__\u001b[1;34m(self, client)\u001b[0m\n\u001b[0;32m     31\u001b[0m WMLResource\u001b[38;5;241m.\u001b[39m\u001b[38;5;21m__init__\u001b[39m(\u001b[38;5;28mself\u001b[39m, \u001b[38;5;18m__name__\u001b[39m, client)\n\u001b[0;32m     32\u001b[0m \u001b[38;5;28mself\u001b[39m\u001b[38;5;241m.\u001b[39m_client \u001b[38;5;241m=\u001b[39m client\n\u001b[1;32m---> 34\u001b[0m \u001b[38;5;28;43mself\u001b[39;49m\u001b[38;5;241;43m.\u001b[39;49m\u001b[43m_connection_validation\u001b[49m\u001b[43m(\u001b[49m\u001b[43m)\u001b[49m\n",
      "File \u001b[1;32mc:\\Users\\rusla\\.conda\\envs\\openshift\\lib\\site-packages\\ibm_watson_machine_learning\\platform_spaces.py:78\u001b[0m, in \u001b[0;36mPlatformSpaces._connection_validation\u001b[1;34m(self)\u001b[0m\n\u001b[0;32m     72\u001b[0m \u001b[38;5;250m\u001b[39m\u001b[38;5;124;03m\"\"\"Trial connection to validate authorization.\u001b[39;00m\n\u001b[0;32m     73\u001b[0m \n\u001b[0;32m     74\u001b[0m \u001b[38;5;124;03m:raises WMLClientError: raises when connection is unauthorized\u001b[39;00m\n\u001b[0;32m     75\u001b[0m \u001b[38;5;124;03m\"\"\"\u001b[39;00m        \n\u001b[0;32m     76\u001b[0m href \u001b[38;5;241m=\u001b[39m \u001b[38;5;28mself\u001b[39m\u001b[38;5;241m.\u001b[39m_client\u001b[38;5;241m.\u001b[39mservice_instance\u001b[38;5;241m.\u001b[39m_href_definitions\u001b[38;5;241m.\u001b[39mget_platform_spaces_href()\n\u001b[0;32m     77\u001b[0m response_get \u001b[38;5;241m=\u001b[39m requests\u001b[38;5;241m.\u001b[39mget(href,\n\u001b[1;32m---> 78\u001b[0m                             headers\u001b[38;5;241m=\u001b[39m\u001b[38;5;28;43mself\u001b[39;49m\u001b[38;5;241;43m.\u001b[39;49m\u001b[43m_client\u001b[49m\u001b[38;5;241;43m.\u001b[39;49m\u001b[43m_get_headers\u001b[49m\u001b[43m(\u001b[49m\u001b[43m)\u001b[49m,\n\u001b[0;32m     79\u001b[0m                             params\u001b[38;5;241m=\u001b[39m{\u001b[38;5;124m\"\u001b[39m\u001b[38;5;124mlimit\u001b[39m\u001b[38;5;124m\"\u001b[39m: \u001b[38;5;241m1\u001b[39m})\n\u001b[0;32m     80\u001b[0m \u001b[38;5;28;01mif\u001b[39;00m response_get\u001b[38;5;241m.\u001b[39mstatus_code \u001b[38;5;241m==\u001b[39m \u001b[38;5;241m401\u001b[39m:\n\u001b[0;32m     81\u001b[0m     \u001b[38;5;28;01mraise\u001b[39;00m WMLClientError(Messages\u001b[38;5;241m.\u001b[39mget_message(response_get\u001b[38;5;241m.\u001b[39mjson()[\u001b[38;5;124m'\u001b[39m\u001b[38;5;124merrors\u001b[39m\u001b[38;5;124m'\u001b[39m][\u001b[38;5;241m0\u001b[39m][\u001b[38;5;124m'\u001b[39m\u001b[38;5;124mmessage\u001b[39m\u001b[38;5;124m'\u001b[39m],\n\u001b[0;32m     82\u001b[0m                                                  message_id\u001b[38;5;241m=\u001b[39m\u001b[38;5;124m\"\u001b[39m\u001b[38;5;124minvalid_authorization\u001b[39m\u001b[38;5;124m\"\u001b[39m))\n",
      "File \u001b[1;32mc:\\Users\\rusla\\.conda\\envs\\openshift\\lib\\site-packages\\ibm_watson_machine_learning\\client.py:514\u001b[0m, in \u001b[0;36mAPIClient._get_headers\u001b[1;34m(self, content_type, no_content_type, wsdconnection_api_req, zen, projects_token)\u001b[0m\n\u001b[0;32m    512\u001b[0m         token \u001b[38;5;241m=\u001b[39m \u001b[38;5;124m\"\u001b[39m\u001b[38;5;124mBearer \u001b[39m\u001b[38;5;124m\"\u001b[39m \u001b[38;5;241m+\u001b[39m token_to_use\n\u001b[0;32m    513\u001b[0m \u001b[38;5;28;01melse\u001b[39;00m:\n\u001b[1;32m--> 514\u001b[0m     token \u001b[38;5;241m=\u001b[39m \u001b[38;5;124m\"\u001b[39m\u001b[38;5;124mBearer \u001b[39m\u001b[38;5;124m\"\u001b[39m \u001b[38;5;241m+\u001b[39m \u001b[38;5;28;43mself\u001b[39;49m\u001b[38;5;241;43m.\u001b[39;49m\u001b[43mservice_instance\u001b[49m\u001b[38;5;241;43m.\u001b[39;49m\u001b[43m_get_token\u001b[49m\u001b[43m(\u001b[49m\u001b[43m)\u001b[49m\n\u001b[0;32m    515\u001b[0m headers \u001b[38;5;241m=\u001b[39m {\n\u001b[0;32m    516\u001b[0m     \u001b[38;5;124m'\u001b[39m\u001b[38;5;124mAuthorization\u001b[39m\u001b[38;5;124m'\u001b[39m: token,\n\u001b[0;32m    517\u001b[0m     \u001b[38;5;124m'\u001b[39m\u001b[38;5;124mX-WML-User-Client\u001b[39m\u001b[38;5;124m'\u001b[39m: \u001b[38;5;124m'\u001b[39m\u001b[38;5;124mPythonClient\u001b[39m\u001b[38;5;124m'\u001b[39m\n\u001b[0;32m    518\u001b[0m }\n\u001b[0;32m    519\u001b[0m \u001b[38;5;66;03m# Cloud Convergence\u001b[39;00m\n",
      "File \u001b[1;32mc:\\Users\\rusla\\.conda\\envs\\openshift\\lib\\site-packages\\ibm_watson_machine_learning\\instance_new_plan.py:192\u001b[0m, in \u001b[0;36mServiceInstanceNewPlan._get_token\u001b[1;34m(self)\u001b[0m\n\u001b[0;32m    190\u001b[0m         \u001b[38;5;28mself\u001b[39m\u001b[38;5;241m.\u001b[39m_client\u001b[38;5;241m.\u001b[39mrepository\u001b[38;5;241m.\u001b[39m_refresh_repo_client()\n\u001b[0;32m    191\u001b[0m \u001b[38;5;28;01melif\u001b[39;00m \u001b[38;5;28mself\u001b[39m\u001b[38;5;241m.\u001b[39m_client\u001b[38;5;241m.\u001b[39m_is_IAM():\n\u001b[1;32m--> 192\u001b[0m     \u001b[38;5;28;01mif\u001b[39;00m \u001b[38;5;28;43mself\u001b[39;49m\u001b[38;5;241;43m.\u001b[39;49m\u001b[43m_get_expiration_datetime\u001b[49m\u001b[43m(\u001b[49m\u001b[43m)\u001b[49m \u001b[38;5;241m-\u001b[39m timedelta(minutes\u001b[38;5;241m=\u001b[39m\u001b[38;5;241m15\u001b[39m) \u001b[38;5;241m<\u001b[39m datetime\u001b[38;5;241m.\u001b[39mnow():\n\u001b[0;32m    193\u001b[0m         \u001b[38;5;28mself\u001b[39m\u001b[38;5;241m.\u001b[39m_client\u001b[38;5;241m.\u001b[39mwml_token \u001b[38;5;241m=\u001b[39m \u001b[38;5;28mself\u001b[39m\u001b[38;5;241m.\u001b[39m_get_IAM_token()\n\u001b[0;32m    194\u001b[0m         \u001b[38;5;28mself\u001b[39m\u001b[38;5;241m.\u001b[39m_client\u001b[38;5;241m.\u001b[39mrepository\u001b[38;5;241m.\u001b[39m_refresh_repo_client()\n",
      "File \u001b[1;32mc:\\Users\\rusla\\.conda\\envs\\openshift\\lib\\site-packages\\ibm_watson_machine_learning\\instance_new_plan.py:226\u001b[0m, in \u001b[0;36mServiceInstanceNewPlan._get_expiration_datetime\u001b[1;34m(self)\u001b[0m\n\u001b[0;32m    224\u001b[0m token_parts \u001b[38;5;241m=\u001b[39m \u001b[38;5;28mself\u001b[39m\u001b[38;5;241m.\u001b[39m_client\u001b[38;5;241m.\u001b[39mwml_token\u001b[38;5;241m.\u001b[39msplit(\u001b[38;5;124m'\u001b[39m\u001b[38;5;124m.\u001b[39m\u001b[38;5;124m'\u001b[39m)\n\u001b[0;32m    225\u001b[0m token_padded \u001b[38;5;241m=\u001b[39m token_parts[\u001b[38;5;241m1\u001b[39m] \u001b[38;5;241m+\u001b[39m \u001b[38;5;124m'\u001b[39m\u001b[38;5;124m=\u001b[39m\u001b[38;5;124m'\u001b[39m \u001b[38;5;241m*\u001b[39m (\u001b[38;5;28mlen\u001b[39m(token_parts[\u001b[38;5;241m1\u001b[39m]) \u001b[38;5;241m%\u001b[39m \u001b[38;5;241m4\u001b[39m)\n\u001b[1;32m--> 226\u001b[0m token_info \u001b[38;5;241m=\u001b[39m json\u001b[38;5;241m.\u001b[39mloads(\u001b[43mbase64\u001b[49m\u001b[38;5;241;43m.\u001b[39;49m\u001b[43mb64decode\u001b[49m\u001b[43m(\u001b[49m\u001b[43mtoken_padded\u001b[49m\u001b[43m)\u001b[49m\u001b[38;5;241m.\u001b[39mdecode(\u001b[38;5;124m'\u001b[39m\u001b[38;5;124mutf-8\u001b[39m\u001b[38;5;124m'\u001b[39m, errors\u001b[38;5;241m=\u001b[39m\u001b[38;5;124m'\u001b[39m\u001b[38;5;124mignore\u001b[39m\u001b[38;5;124m'\u001b[39m))\n\u001b[0;32m    227\u001b[0m token_expire \u001b[38;5;241m=\u001b[39m token_info\u001b[38;5;241m.\u001b[39mget(\u001b[38;5;124m'\u001b[39m\u001b[38;5;124mexp\u001b[39m\u001b[38;5;124m'\u001b[39m)\n\u001b[0;32m    229\u001b[0m \u001b[38;5;28;01mreturn\u001b[39;00m datetime\u001b[38;5;241m.\u001b[39mfromtimestamp(token_expire)\n",
      "File \u001b[1;32mc:\\Users\\rusla\\.conda\\envs\\openshift\\lib\\base64.py:87\u001b[0m, in \u001b[0;36mb64decode\u001b[1;34m(s, altchars, validate)\u001b[0m\n\u001b[0;32m     85\u001b[0m \u001b[38;5;28;01mif\u001b[39;00m validate \u001b[38;5;129;01mand\u001b[39;00m \u001b[38;5;129;01mnot\u001b[39;00m re\u001b[38;5;241m.\u001b[39mfullmatch(\u001b[38;5;124mb\u001b[39m\u001b[38;5;124m'\u001b[39m\u001b[38;5;124m[A-Za-z0-9+/]*=\u001b[39m\u001b[38;5;124m{\u001b[39m\u001b[38;5;124m0,2}\u001b[39m\u001b[38;5;124m'\u001b[39m, s):\n\u001b[0;32m     86\u001b[0m     \u001b[38;5;28;01mraise\u001b[39;00m binascii\u001b[38;5;241m.\u001b[39mError(\u001b[38;5;124m'\u001b[39m\u001b[38;5;124mNon-base64 digit found\u001b[39m\u001b[38;5;124m'\u001b[39m)\n\u001b[1;32m---> 87\u001b[0m \u001b[38;5;28;01mreturn\u001b[39;00m \u001b[43mbinascii\u001b[49m\u001b[38;5;241;43m.\u001b[39;49m\u001b[43ma2b_base64\u001b[49m\u001b[43m(\u001b[49m\u001b[43ms\u001b[49m\u001b[43m)\u001b[49m\n",
      "\u001b[1;31mError\u001b[0m: Incorrect padding"
     ]
    }
   ],
   "source": [
    "\n",
    "\n",
    "load_dotenv()\n",
    "\n",
    "project_id = os.getenv(\"PROJECT_ID\", None)\n",
    "creds = {\n",
    "    \"url\": \"https://us-south.ml.cloud.ibm.com\",\n",
    "    \"apikey\": os.getenv(\"API_KEY\", None)\n",
    "}\n",
    "\n",
    "class WatsonxLLM(LLM, BaseModel):\n",
    "    credentials: Optional[Dict] = None\n",
    "    model: Optional[str] = None\n",
    "    params: Optional[Dict] = None\n",
    "    project_id: Optional[str] = None\n",
    "\n",
    "    class Config:\n",
    "        extra = Extra.forbid\n",
    "\n",
    "    @property\n",
    "    def _identifying_params(self) -> Mapping[str, Any]:\n",
    "        _params = self.params or {}\n",
    "        return {\n",
    "            **{\"model\": self.model},\n",
    "            **{\"params\": _params},\n",
    "        }\n",
    "\n",
    "    @property\n",
    "    def _llm_type(self) -> str:\n",
    "        return \"IBM WATSONX\"\n",
    "\n",
    "    def __call__(self, prompt: str, stop: Optional[List[str]] = None) -> str:\n",
    "        params = self.params or {}\n",
    "        model = Model(model_id=self.model, params=params, credentials=self.credentials, project_id=self.project_id)\n",
    "        text = model.generate_text(prompt)\n",
    "        if stop is not None:\n",
    "            text = enforce_stop_tokens(text, stop)\n",
    "        return text\n",
    "\n",
    "params = {\n",
    "    GenParams.DECODING_METHOD: \"greedy\",\n",
    "    GenParams.MIN_NEW_TOKENS: 1,\n",
    "    GenParams.MAX_NEW_TOKENS: 256\n",
    "}\n",
    "\n",
    "model = WatsonxLLM(model=\"google/flan-t5-xxl\", credentials=creds, params=params, project_id=project_id)\n",
    "text = \"Where is Germany?\"\n",
    "result = model(text)  # This should call the __call__ method\n",
    "print(result)\n"
   ]
  },
  {
   "cell_type": "code",
   "execution_count": 49,
   "id": "dcb35cf1",
   "metadata": {},
   "outputs": [],
   "source": [
    "#!pip install ibm_watsonx_ai"
   ]
  },
  {
   "cell_type": "code",
   "execution_count": 50,
   "id": "32e7e59a",
   "metadata": {},
   "outputs": [
    {
     "ename": "ValidationError",
     "evalue": "1 validation error for WatsonxLLM\n__root__\n  Incorrect padding (type=value_error.)",
     "output_type": "error",
     "traceback": [
      "\u001b[1;31m---------------------------------------------------------------------------\u001b[0m",
      "\u001b[1;31mValidationError\u001b[0m                           Traceback (most recent call last)",
      "Cell \u001b[1;32mIn[50], line 1\u001b[0m\n\u001b[1;32m----> 1\u001b[0m watsonx_granite \u001b[38;5;241m=\u001b[39m \u001b[43mWatsonxLLM\u001b[49m\u001b[43m(\u001b[49m\n\u001b[0;32m      2\u001b[0m \u001b[43m    \u001b[49m\u001b[43mmodel_id\u001b[49m\u001b[38;5;241;43m=\u001b[39;49m\u001b[43mmodel_id\u001b[49m\u001b[38;5;241;43m.\u001b[39;49m\u001b[43mvalue\u001b[49m\u001b[43m,\u001b[49m\n\u001b[0;32m      3\u001b[0m \u001b[43m    \u001b[49m\u001b[43murl\u001b[49m\u001b[38;5;241;43m=\u001b[39;49m\u001b[43mcredentials\u001b[49m\u001b[38;5;241;43m.\u001b[39;49m\u001b[43mget\u001b[49m\u001b[43m(\u001b[49m\u001b[38;5;124;43m\"\u001b[39;49m\u001b[38;5;124;43murl\u001b[39;49m\u001b[38;5;124;43m\"\u001b[39;49m\u001b[43m)\u001b[49m\u001b[43m,\u001b[49m\n\u001b[0;32m      4\u001b[0m \u001b[43m    \u001b[49m\u001b[43mapikey\u001b[49m\u001b[38;5;241;43m=\u001b[39;49m\u001b[43mcredentials\u001b[49m\u001b[38;5;241;43m.\u001b[39;49m\u001b[43mget\u001b[49m\u001b[43m(\u001b[49m\u001b[38;5;124;43m\"\u001b[39;49m\u001b[38;5;124;43mapikey\u001b[39;49m\u001b[38;5;124;43m\"\u001b[39;49m\u001b[43m)\u001b[49m\u001b[43m,\u001b[49m\n\u001b[0;32m      5\u001b[0m \u001b[43m    \u001b[49m\u001b[43mproject_id\u001b[49m\u001b[38;5;241;43m=\u001b[39;49m\u001b[43mproject_id\u001b[49m\u001b[43m,\u001b[49m\n\u001b[0;32m      6\u001b[0m \u001b[43m    \u001b[49m\u001b[43mparams\u001b[49m\u001b[38;5;241;43m=\u001b[39;49m\u001b[43mparameters\u001b[49m\n\u001b[0;32m      7\u001b[0m \u001b[43m)\u001b[49m\n",
      "File \u001b[1;32mc:\\Users\\rusla\\.conda\\envs\\openshift\\lib\\site-packages\\langchain_core\\load\\serializable.py:97\u001b[0m, in \u001b[0;36mSerializable.__init__\u001b[1;34m(self, **kwargs)\u001b[0m\n\u001b[0;32m     96\u001b[0m \u001b[38;5;28;01mdef\u001b[39;00m \u001b[38;5;21m__init__\u001b[39m(\u001b[38;5;28mself\u001b[39m, \u001b[38;5;241m*\u001b[39m\u001b[38;5;241m*\u001b[39mkwargs: Any) \u001b[38;5;241m-\u001b[39m\u001b[38;5;241m>\u001b[39m \u001b[38;5;28;01mNone\u001b[39;00m:\n\u001b[1;32m---> 97\u001b[0m     \u001b[38;5;28msuper\u001b[39m()\u001b[38;5;241m.\u001b[39m\u001b[38;5;21m__init__\u001b[39m(\u001b[38;5;241m*\u001b[39m\u001b[38;5;241m*\u001b[39mkwargs)\n\u001b[0;32m     98\u001b[0m     \u001b[38;5;28mself\u001b[39m\u001b[38;5;241m.\u001b[39m_lc_kwargs \u001b[38;5;241m=\u001b[39m kwargs\n",
      "File \u001b[1;32mc:\\Users\\rusla\\.conda\\envs\\openshift\\lib\\site-packages\\pydantic\\main.py:341\u001b[0m, in \u001b[0;36mpydantic.main.BaseModel.__init__\u001b[1;34m()\u001b[0m\n",
      "\u001b[1;31mValidationError\u001b[0m: 1 validation error for WatsonxLLM\n__root__\n  Incorrect padding (type=value_error.)"
     ]
    }
   ],
   "source": [
    "watsonx_granite = WatsonxLLM(\n",
    "    model_id=model_id.value,\n",
    "    url=credentials.get(\"url\"),\n",
    "    apikey=credentials.get(\"apikey\"),\n",
    "    project_id=project_id,\n",
    "    params=parameters\n",
    ")"
   ]
  },
  {
   "cell_type": "code",
   "execution_count": null,
   "id": "f139beaf-5338-4427-b764-2c9824e730e6",
   "metadata": {
    "tags": []
   },
   "outputs": [],
   "source": [
    "!pip install ibm-generative-ai"
   ]
  },
  {
   "cell_type": "code",
   "execution_count": 35,
   "id": "a081c068",
   "metadata": {},
   "outputs": [
    {
     "ename": "Error",
     "evalue": "Incorrect padding",
     "output_type": "error",
     "traceback": [
      "\u001b[1;31m---------------------------------------------------------------------------\u001b[0m",
      "\u001b[1;31mError\u001b[0m                                     Traceback (most recent call last)",
      "Cell \u001b[1;32mIn[35], line 57\u001b[0m\n\u001b[0;32m     55\u001b[0m model \u001b[38;5;241m=\u001b[39m WatsonxLLM(model\u001b[38;5;241m=\u001b[39m\u001b[38;5;124m\"\u001b[39m\u001b[38;5;124mgoogle/flan-t5-xxl\u001b[39m\u001b[38;5;124m\"\u001b[39m, credentials\u001b[38;5;241m=\u001b[39mcreds, params\u001b[38;5;241m=\u001b[39mparams, project_id\u001b[38;5;241m=\u001b[39mproject_id)\n\u001b[0;32m     56\u001b[0m text \u001b[38;5;241m=\u001b[39m \u001b[38;5;124m\"\u001b[39m\u001b[38;5;124mWhere is Germany?\u001b[39m\u001b[38;5;124m\"\u001b[39m\n\u001b[1;32m---> 57\u001b[0m result \u001b[38;5;241m=\u001b[39m \u001b[43mmodel\u001b[49m\u001b[43m(\u001b[49m\u001b[43mtext\u001b[49m\u001b[43m)\u001b[49m  \u001b[38;5;66;03m# This should call the __call__ method\u001b[39;00m\n\u001b[0;32m     58\u001b[0m \u001b[38;5;28mprint\u001b[39m(result)\n",
      "Cell \u001b[1;32mIn[35], line 40\u001b[0m, in \u001b[0;36mWatsonxLLM.__call__\u001b[1;34m(self, prompt, stop)\u001b[0m\n\u001b[0;32m     38\u001b[0m \u001b[38;5;28;01mdef\u001b[39;00m \u001b[38;5;21m__call__\u001b[39m(\u001b[38;5;28mself\u001b[39m, prompt: \u001b[38;5;28mstr\u001b[39m, stop: Optional[List[\u001b[38;5;28mstr\u001b[39m]] \u001b[38;5;241m=\u001b[39m \u001b[38;5;28;01mNone\u001b[39;00m) \u001b[38;5;241m-\u001b[39m\u001b[38;5;241m>\u001b[39m \u001b[38;5;28mstr\u001b[39m:\n\u001b[0;32m     39\u001b[0m     params \u001b[38;5;241m=\u001b[39m \u001b[38;5;28mself\u001b[39m\u001b[38;5;241m.\u001b[39mparams \u001b[38;5;129;01mor\u001b[39;00m {}\n\u001b[1;32m---> 40\u001b[0m     model \u001b[38;5;241m=\u001b[39m \u001b[43mModel\u001b[49m\u001b[43m(\u001b[49m\u001b[43mmodel_id\u001b[49m\u001b[38;5;241;43m=\u001b[39;49m\u001b[38;5;28;43mself\u001b[39;49m\u001b[38;5;241;43m.\u001b[39;49m\u001b[43mmodel\u001b[49m\u001b[43m,\u001b[49m\u001b[43m \u001b[49m\u001b[43mparams\u001b[49m\u001b[38;5;241;43m=\u001b[39;49m\u001b[43mparams\u001b[49m\u001b[43m,\u001b[49m\u001b[43m \u001b[49m\u001b[43mcredentials\u001b[49m\u001b[38;5;241;43m=\u001b[39;49m\u001b[38;5;28;43mself\u001b[39;49m\u001b[38;5;241;43m.\u001b[39;49m\u001b[43mcredentials\u001b[49m\u001b[43m,\u001b[49m\u001b[43m \u001b[49m\u001b[43mproject_id\u001b[49m\u001b[38;5;241;43m=\u001b[39;49m\u001b[38;5;28;43mself\u001b[39;49m\u001b[38;5;241;43m.\u001b[39;49m\u001b[43mproject_id\u001b[49m\u001b[43m)\u001b[49m\n\u001b[0;32m     41\u001b[0m     text \u001b[38;5;241m=\u001b[39m model\u001b[38;5;241m.\u001b[39mgenerate_text(prompt)\n\u001b[0;32m     42\u001b[0m     \u001b[38;5;28;01mif\u001b[39;00m stop \u001b[38;5;129;01mis\u001b[39;00m \u001b[38;5;129;01mnot\u001b[39;00m \u001b[38;5;28;01mNone\u001b[39;00m:\n",
      "File \u001b[1;32mc:\\Users\\rusla\\.conda\\envs\\openshift\\lib\\site-packages\\ibm_watson_machine_learning\\foundation_models\\model.py:100\u001b[0m, in \u001b[0;36mModel.__init__\u001b[1;34m(self, model_id, credentials, params, project_id, space_id, verify)\u001b[0m\n\u001b[0;32m     98\u001b[0m \u001b[38;5;28mself\u001b[39m\u001b[38;5;241m.\u001b[39mproject_id \u001b[38;5;241m=\u001b[39m project_id\n\u001b[0;32m     99\u001b[0m \u001b[38;5;28mself\u001b[39m\u001b[38;5;241m.\u001b[39mspace_id \u001b[38;5;241m=\u001b[39m space_id\n\u001b[1;32m--> 100\u001b[0m \u001b[38;5;28mself\u001b[39m\u001b[38;5;241m.\u001b[39m_client \u001b[38;5;241m=\u001b[39m \u001b[43mAPIClient\u001b[49m\u001b[43m(\u001b[49m\u001b[43mcredentials\u001b[49m\u001b[43m,\u001b[49m\u001b[43m \u001b[49m\u001b[43mverify\u001b[49m\u001b[38;5;241;43m=\u001b[39;49m\u001b[43mverify\u001b[49m\u001b[43m)\u001b[49m\n\u001b[0;32m    102\u001b[0m Model\u001b[38;5;241m.\u001b[39m_validate_type(params, \u001b[38;5;124mu\u001b[39m\u001b[38;5;124m'\u001b[39m\u001b[38;5;124mparams\u001b[39m\u001b[38;5;124m'\u001b[39m, \u001b[38;5;28mdict\u001b[39m, \u001b[38;5;28;01mFalse\u001b[39;00m)\n\u001b[0;32m    104\u001b[0m \u001b[38;5;28;01mif\u001b[39;00m \u001b[38;5;129;01mnot\u001b[39;00m \u001b[38;5;28mself\u001b[39m\u001b[38;5;241m.\u001b[39m_client\u001b[38;5;241m.\u001b[39mCLOUD_PLATFORM_SPACES \u001b[38;5;129;01mand\u001b[39;00m \u001b[38;5;28mself\u001b[39m\u001b[38;5;241m.\u001b[39m_client\u001b[38;5;241m.\u001b[39mCPD_version \u001b[38;5;241m<\u001b[39m \u001b[38;5;241m4.8\u001b[39m:\n",
      "File \u001b[1;32mc:\\Users\\rusla\\.conda\\envs\\openshift\\lib\\site-packages\\ibm_watson_machine_learning\\client.py:377\u001b[0m, in \u001b[0;36mAPIClient.__init__\u001b[1;34m(self, wml_credentials, project_id, verify)\u001b[0m\n\u001b[0;32m    373\u001b[0m     \u001b[38;5;28mself\u001b[39m\u001b[38;5;241m.\u001b[39mservice_instance\u001b[38;5;241m.\u001b[39mdetails \u001b[38;5;241m=\u001b[39m \u001b[38;5;28mself\u001b[39m\u001b[38;5;241m.\u001b[39mservice_instance\u001b[38;5;241m.\u001b[39mget_details()\n\u001b[0;32m    375\u001b[0m \u001b[38;5;28mself\u001b[39m\u001b[38;5;241m.\u001b[39mset \u001b[38;5;241m=\u001b[39m Set(\u001b[38;5;28mself\u001b[39m)\n\u001b[1;32m--> 377\u001b[0m \u001b[38;5;28mself\u001b[39m\u001b[38;5;241m.\u001b[39mspaces \u001b[38;5;241m=\u001b[39m \u001b[43mPlatformSpaces\u001b[49m\u001b[43m(\u001b[49m\u001b[38;5;28;43mself\u001b[39;49m\u001b[43m)\u001b[49m\n\u001b[0;32m    379\u001b[0m \u001b[38;5;28mself\u001b[39m\u001b[38;5;241m.\u001b[39mexport_assets \u001b[38;5;241m=\u001b[39m Export(\u001b[38;5;28mself\u001b[39m)\n\u001b[0;32m    380\u001b[0m \u001b[38;5;28mself\u001b[39m\u001b[38;5;241m.\u001b[39mimport_assets \u001b[38;5;241m=\u001b[39m Import(\u001b[38;5;28mself\u001b[39m)\n",
      "File \u001b[1;32mc:\\Users\\rusla\\.conda\\envs\\openshift\\lib\\site-packages\\ibm_watson_machine_learning\\platform_spaces.py:34\u001b[0m, in \u001b[0;36mPlatformSpaces.__init__\u001b[1;34m(self, client)\u001b[0m\n\u001b[0;32m     31\u001b[0m WMLResource\u001b[38;5;241m.\u001b[39m\u001b[38;5;21m__init__\u001b[39m(\u001b[38;5;28mself\u001b[39m, \u001b[38;5;18m__name__\u001b[39m, client)\n\u001b[0;32m     32\u001b[0m \u001b[38;5;28mself\u001b[39m\u001b[38;5;241m.\u001b[39m_client \u001b[38;5;241m=\u001b[39m client\n\u001b[1;32m---> 34\u001b[0m \u001b[38;5;28;43mself\u001b[39;49m\u001b[38;5;241;43m.\u001b[39;49m\u001b[43m_connection_validation\u001b[49m\u001b[43m(\u001b[49m\u001b[43m)\u001b[49m\n",
      "File \u001b[1;32mc:\\Users\\rusla\\.conda\\envs\\openshift\\lib\\site-packages\\ibm_watson_machine_learning\\platform_spaces.py:78\u001b[0m, in \u001b[0;36mPlatformSpaces._connection_validation\u001b[1;34m(self)\u001b[0m\n\u001b[0;32m     72\u001b[0m \u001b[38;5;250m\u001b[39m\u001b[38;5;124;03m\"\"\"Trial connection to validate authorization.\u001b[39;00m\n\u001b[0;32m     73\u001b[0m \n\u001b[0;32m     74\u001b[0m \u001b[38;5;124;03m:raises WMLClientError: raises when connection is unauthorized\u001b[39;00m\n\u001b[0;32m     75\u001b[0m \u001b[38;5;124;03m\"\"\"\u001b[39;00m        \n\u001b[0;32m     76\u001b[0m href \u001b[38;5;241m=\u001b[39m \u001b[38;5;28mself\u001b[39m\u001b[38;5;241m.\u001b[39m_client\u001b[38;5;241m.\u001b[39mservice_instance\u001b[38;5;241m.\u001b[39m_href_definitions\u001b[38;5;241m.\u001b[39mget_platform_spaces_href()\n\u001b[0;32m     77\u001b[0m response_get \u001b[38;5;241m=\u001b[39m requests\u001b[38;5;241m.\u001b[39mget(href,\n\u001b[1;32m---> 78\u001b[0m                             headers\u001b[38;5;241m=\u001b[39m\u001b[38;5;28;43mself\u001b[39;49m\u001b[38;5;241;43m.\u001b[39;49m\u001b[43m_client\u001b[49m\u001b[38;5;241;43m.\u001b[39;49m\u001b[43m_get_headers\u001b[49m\u001b[43m(\u001b[49m\u001b[43m)\u001b[49m,\n\u001b[0;32m     79\u001b[0m                             params\u001b[38;5;241m=\u001b[39m{\u001b[38;5;124m\"\u001b[39m\u001b[38;5;124mlimit\u001b[39m\u001b[38;5;124m\"\u001b[39m: \u001b[38;5;241m1\u001b[39m})\n\u001b[0;32m     80\u001b[0m \u001b[38;5;28;01mif\u001b[39;00m response_get\u001b[38;5;241m.\u001b[39mstatus_code \u001b[38;5;241m==\u001b[39m \u001b[38;5;241m401\u001b[39m:\n\u001b[0;32m     81\u001b[0m     \u001b[38;5;28;01mraise\u001b[39;00m WMLClientError(Messages\u001b[38;5;241m.\u001b[39mget_message(response_get\u001b[38;5;241m.\u001b[39mjson()[\u001b[38;5;124m'\u001b[39m\u001b[38;5;124merrors\u001b[39m\u001b[38;5;124m'\u001b[39m][\u001b[38;5;241m0\u001b[39m][\u001b[38;5;124m'\u001b[39m\u001b[38;5;124mmessage\u001b[39m\u001b[38;5;124m'\u001b[39m],\n\u001b[0;32m     82\u001b[0m                                                  message_id\u001b[38;5;241m=\u001b[39m\u001b[38;5;124m\"\u001b[39m\u001b[38;5;124minvalid_authorization\u001b[39m\u001b[38;5;124m\"\u001b[39m))\n",
      "File \u001b[1;32mc:\\Users\\rusla\\.conda\\envs\\openshift\\lib\\site-packages\\ibm_watson_machine_learning\\client.py:514\u001b[0m, in \u001b[0;36mAPIClient._get_headers\u001b[1;34m(self, content_type, no_content_type, wsdconnection_api_req, zen, projects_token)\u001b[0m\n\u001b[0;32m    512\u001b[0m         token \u001b[38;5;241m=\u001b[39m \u001b[38;5;124m\"\u001b[39m\u001b[38;5;124mBearer \u001b[39m\u001b[38;5;124m\"\u001b[39m \u001b[38;5;241m+\u001b[39m token_to_use\n\u001b[0;32m    513\u001b[0m \u001b[38;5;28;01melse\u001b[39;00m:\n\u001b[1;32m--> 514\u001b[0m     token \u001b[38;5;241m=\u001b[39m \u001b[38;5;124m\"\u001b[39m\u001b[38;5;124mBearer \u001b[39m\u001b[38;5;124m\"\u001b[39m \u001b[38;5;241m+\u001b[39m \u001b[38;5;28;43mself\u001b[39;49m\u001b[38;5;241;43m.\u001b[39;49m\u001b[43mservice_instance\u001b[49m\u001b[38;5;241;43m.\u001b[39;49m\u001b[43m_get_token\u001b[49m\u001b[43m(\u001b[49m\u001b[43m)\u001b[49m\n\u001b[0;32m    515\u001b[0m headers \u001b[38;5;241m=\u001b[39m {\n\u001b[0;32m    516\u001b[0m     \u001b[38;5;124m'\u001b[39m\u001b[38;5;124mAuthorization\u001b[39m\u001b[38;5;124m'\u001b[39m: token,\n\u001b[0;32m    517\u001b[0m     \u001b[38;5;124m'\u001b[39m\u001b[38;5;124mX-WML-User-Client\u001b[39m\u001b[38;5;124m'\u001b[39m: \u001b[38;5;124m'\u001b[39m\u001b[38;5;124mPythonClient\u001b[39m\u001b[38;5;124m'\u001b[39m\n\u001b[0;32m    518\u001b[0m }\n\u001b[0;32m    519\u001b[0m \u001b[38;5;66;03m# Cloud Convergence\u001b[39;00m\n",
      "File \u001b[1;32mc:\\Users\\rusla\\.conda\\envs\\openshift\\lib\\site-packages\\ibm_watson_machine_learning\\instance_new_plan.py:192\u001b[0m, in \u001b[0;36mServiceInstanceNewPlan._get_token\u001b[1;34m(self)\u001b[0m\n\u001b[0;32m    190\u001b[0m         \u001b[38;5;28mself\u001b[39m\u001b[38;5;241m.\u001b[39m_client\u001b[38;5;241m.\u001b[39mrepository\u001b[38;5;241m.\u001b[39m_refresh_repo_client()\n\u001b[0;32m    191\u001b[0m \u001b[38;5;28;01melif\u001b[39;00m \u001b[38;5;28mself\u001b[39m\u001b[38;5;241m.\u001b[39m_client\u001b[38;5;241m.\u001b[39m_is_IAM():\n\u001b[1;32m--> 192\u001b[0m     \u001b[38;5;28;01mif\u001b[39;00m \u001b[38;5;28;43mself\u001b[39;49m\u001b[38;5;241;43m.\u001b[39;49m\u001b[43m_get_expiration_datetime\u001b[49m\u001b[43m(\u001b[49m\u001b[43m)\u001b[49m \u001b[38;5;241m-\u001b[39m timedelta(minutes\u001b[38;5;241m=\u001b[39m\u001b[38;5;241m15\u001b[39m) \u001b[38;5;241m<\u001b[39m datetime\u001b[38;5;241m.\u001b[39mnow():\n\u001b[0;32m    193\u001b[0m         \u001b[38;5;28mself\u001b[39m\u001b[38;5;241m.\u001b[39m_client\u001b[38;5;241m.\u001b[39mwml_token \u001b[38;5;241m=\u001b[39m \u001b[38;5;28mself\u001b[39m\u001b[38;5;241m.\u001b[39m_get_IAM_token()\n\u001b[0;32m    194\u001b[0m         \u001b[38;5;28mself\u001b[39m\u001b[38;5;241m.\u001b[39m_client\u001b[38;5;241m.\u001b[39mrepository\u001b[38;5;241m.\u001b[39m_refresh_repo_client()\n",
      "File \u001b[1;32mc:\\Users\\rusla\\.conda\\envs\\openshift\\lib\\site-packages\\ibm_watson_machine_learning\\instance_new_plan.py:226\u001b[0m, in \u001b[0;36mServiceInstanceNewPlan._get_expiration_datetime\u001b[1;34m(self)\u001b[0m\n\u001b[0;32m    224\u001b[0m token_parts \u001b[38;5;241m=\u001b[39m \u001b[38;5;28mself\u001b[39m\u001b[38;5;241m.\u001b[39m_client\u001b[38;5;241m.\u001b[39mwml_token\u001b[38;5;241m.\u001b[39msplit(\u001b[38;5;124m'\u001b[39m\u001b[38;5;124m.\u001b[39m\u001b[38;5;124m'\u001b[39m)\n\u001b[0;32m    225\u001b[0m token_padded \u001b[38;5;241m=\u001b[39m token_parts[\u001b[38;5;241m1\u001b[39m] \u001b[38;5;241m+\u001b[39m \u001b[38;5;124m'\u001b[39m\u001b[38;5;124m=\u001b[39m\u001b[38;5;124m'\u001b[39m \u001b[38;5;241m*\u001b[39m (\u001b[38;5;28mlen\u001b[39m(token_parts[\u001b[38;5;241m1\u001b[39m]) \u001b[38;5;241m%\u001b[39m \u001b[38;5;241m4\u001b[39m)\n\u001b[1;32m--> 226\u001b[0m token_info \u001b[38;5;241m=\u001b[39m json\u001b[38;5;241m.\u001b[39mloads(\u001b[43mbase64\u001b[49m\u001b[38;5;241;43m.\u001b[39;49m\u001b[43mb64decode\u001b[49m\u001b[43m(\u001b[49m\u001b[43mtoken_padded\u001b[49m\u001b[43m)\u001b[49m\u001b[38;5;241m.\u001b[39mdecode(\u001b[38;5;124m'\u001b[39m\u001b[38;5;124mutf-8\u001b[39m\u001b[38;5;124m'\u001b[39m, errors\u001b[38;5;241m=\u001b[39m\u001b[38;5;124m'\u001b[39m\u001b[38;5;124mignore\u001b[39m\u001b[38;5;124m'\u001b[39m))\n\u001b[0;32m    227\u001b[0m token_expire \u001b[38;5;241m=\u001b[39m token_info\u001b[38;5;241m.\u001b[39mget(\u001b[38;5;124m'\u001b[39m\u001b[38;5;124mexp\u001b[39m\u001b[38;5;124m'\u001b[39m)\n\u001b[0;32m    229\u001b[0m \u001b[38;5;28;01mreturn\u001b[39;00m datetime\u001b[38;5;241m.\u001b[39mfromtimestamp(token_expire)\n",
      "File \u001b[1;32mc:\\Users\\rusla\\.conda\\envs\\openshift\\lib\\base64.py:87\u001b[0m, in \u001b[0;36mb64decode\u001b[1;34m(s, altchars, validate)\u001b[0m\n\u001b[0;32m     85\u001b[0m \u001b[38;5;28;01mif\u001b[39;00m validate \u001b[38;5;129;01mand\u001b[39;00m \u001b[38;5;129;01mnot\u001b[39;00m re\u001b[38;5;241m.\u001b[39mfullmatch(\u001b[38;5;124mb\u001b[39m\u001b[38;5;124m'\u001b[39m\u001b[38;5;124m[A-Za-z0-9+/]*=\u001b[39m\u001b[38;5;124m{\u001b[39m\u001b[38;5;124m0,2}\u001b[39m\u001b[38;5;124m'\u001b[39m, s):\n\u001b[0;32m     86\u001b[0m     \u001b[38;5;28;01mraise\u001b[39;00m binascii\u001b[38;5;241m.\u001b[39mError(\u001b[38;5;124m'\u001b[39m\u001b[38;5;124mNon-base64 digit found\u001b[39m\u001b[38;5;124m'\u001b[39m)\n\u001b[1;32m---> 87\u001b[0m \u001b[38;5;28;01mreturn\u001b[39;00m \u001b[43mbinascii\u001b[49m\u001b[38;5;241;43m.\u001b[39;49m\u001b[43ma2b_base64\u001b[49m\u001b[43m(\u001b[49m\u001b[43ms\u001b[49m\u001b[43m)\u001b[49m\n",
      "\u001b[1;31mError\u001b[0m: Incorrect padding"
     ]
    }
   ],
   "source": [
    "import os\n",
    "from typing import Optional, Dict, Mapping, Any, List\n",
    "from pydantic import Extra\n",
    "from dotenv import load_dotenv\n",
    "\n",
    "# Assuming necessary imports for LLM, BaseModel, Model, and GenParams are present\n",
    "# Adjust imports as needed\n",
    "\n",
    "load_dotenv()\n",
    "\n",
    "project_id = os.getenv(\"PROJECT_ID\", None)\n",
    "creds = {\n",
    "    \"url\": \"https://us-south.ml.cloud.ibm.com\",\n",
    "    \"apikey\": os.getenv(\"API_KEY\", None)\n",
    "}\n",
    "\n",
    "class WatsonxLLM(LLM, BaseModel):\n",
    "    credentials: Optional[Dict] = None\n",
    "    model: Optional[str] = None\n",
    "    params: Optional[Dict] = None\n",
    "    project_id: Optional[str] = None\n",
    "\n",
    "    class Config:\n",
    "        extra = Extra.forbid\n",
    "\n",
    "    @property\n",
    "    def _identifying_params(self) -> Mapping[str, Any]:\n",
    "        _params = self.params or {}\n",
    "        return {\n",
    "            **{\"model\": self.model},\n",
    "            **{\"params\": _params},\n",
    "        }\n",
    "\n",
    "    @property\n",
    "    def _llm_type(self) -> str:\n",
    "        return \"IBM WATSONX\"\n",
    "\n",
    "    def __call__(self, prompt: str, stop: Optional[List[str]] = None) -> str:\n",
    "        params = self.params or {}\n",
    "        model = Model(model_id=self.model, params=params, credentials=self.credentials, project_id=self.project_id)\n",
    "        text = model.generate_text(prompt)\n",
    "        if stop is not None:\n",
    "            text = enforce_stop_tokens(text, stop)\n",
    "        return text\n",
    "\n",
    "params = {\n",
    "    GenParams.DECODING_METHOD: \"greedy\",\n",
    "    GenParams.MIN_NEW_TOKENS: 1,\n",
    "    GenParams.MAX_NEW_TOKENS: 256\n",
    "}\n",
    "\n",
    "# Assuming the necessary import for Model is present\n",
    "# Adjust imports as needed\n",
    "\n",
    "model = WatsonxLLM(model=\"google/flan-t5-xxl\", credentials=creds, params=params, project_id=project_id)\n",
    "text = \"Where is Germany?\"\n",
    "result = model(text)  # This should call the __call__ method\n",
    "print(result)\n"
   ]
  }
 ],
 "metadata": {
  "kernelspec": {
   "display_name": "openshift",
   "language": "python",
   "name": "python3"
  },
  "language_info": {
   "codemirror_mode": {
    "name": "ipython",
    "version": 3
   },
   "file_extension": ".py",
   "mimetype": "text/x-python",
   "name": "python",
   "nbconvert_exporter": "python",
   "pygments_lexer": "ipython3",
   "version": "3.9.19"
  }
 },
 "nbformat": 4,
 "nbformat_minor": 5
}
