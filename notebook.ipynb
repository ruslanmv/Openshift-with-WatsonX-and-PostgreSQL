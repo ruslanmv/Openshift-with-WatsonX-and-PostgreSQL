{
 "cells": [
  {
   "cell_type": "markdown",
   "id": "d6f06e75-0ef2-414b-87e4-ced58f1f57cc",
   "metadata": {},
   "source": [
    "# Openshift with WatsonX and PosgreSQL for RAG"
   ]
  },
  {
   "cell_type": "code",
   "execution_count": null,
   "id": "16a92d0f-9a71-4bc0-b309-7c168d377585",
   "metadata": {
    "tags": []
   },
   "outputs": [],
   "source": [
    "!pip install --upgrade pip\n",
    "!pip install \"langchain==0.0.345\" \n",
    "!pip install wget \n",
    "!pip install sentence-transformers \n",
    "!pip install \"chromadb==0.3.26\" \n",
    "!pip install \"ibm-watson-machine-learning>=1.0.333\" \n",
    "#!pip install ibm-watson-machine-learning==1.0.335\n",
    "#!pip install \"pydantic==1.10.0\"\n",
    "!pip install pydantic==1.10.11\n",
    "!pip install python-dotenv\n",
    "!pip install typing-inspect==0.8.0\n",
    "!pip install typing_extensions==4.5.0\n",
    "!pip install psycopg2-binary\n",
    "!pip install pypdf\n",
    "!pip install pgvector"
   ]
  },
  {
   "cell_type": "code",
   "execution_count": null,
   "id": "12d9bee9-b9b8-4eb6-8dab-b1ed2bae0bcb",
   "metadata": {
    "tags": []
   },
   "outputs": [],
   "source": [
    "import os, getpass\n",
    "from dotenv import load_dotenv\n",
    "load_dotenv()"
   ]
  },
  {
   "cell_type": "code",
   "execution_count": null,
   "id": "9db150df-72b0-46f4-ba35-068318ee621a",
   "metadata": {
    "tags": []
   },
   "outputs": [],
   "source": [
    "project_id = os.getenv(\"PROJECT_ID\", None)\n",
    "credentials = {\n",
    "    #\"url\":  \"https://eu-de.ml.cloud.ibm.com\",\n",
    "    \"url\": \"https://us-south.ml.cloud.ibm.com\",\n",
    "    \"apikey\": os.getenv(\"API_KEY\", None)\n",
    "}"
   ]
  },
  {
   "cell_type": "code",
   "execution_count": null,
   "id": "655a2fa4-6c2d-4430-87b4-f0435ed1c409",
   "metadata": {
    "tags": []
   },
   "outputs": [],
   "source": [
    "try:\n",
    "    project_id = os.environ[\"PROJECT_ID\"]\n",
    "except KeyError:\n",
    "    project_id = input(\"Please enter your project_id (hit enter): \")"
   ]
  },
  {
   "cell_type": "code",
   "execution_count": null,
   "id": "9d91af51-d208-4206-9aa6-0f5c7cf35639",
   "metadata": {
    "tags": []
   },
   "outputs": [],
   "source": [
    "import wget\n",
    "filename = 'state_of_the_union.txt'\n",
    "url = 'https://raw.github.com/IBM/watson-machine-learning-samples/master/cloud/data/foundation_models/state_of_the_union.txt'\n",
    "if not os.path.isfile(filename):\n",
    "    wget.download(url, out=filename)"
   ]
  },
  {
   "cell_type": "code",
   "execution_count": null,
   "id": "6ad11cea-c99e-4706-9466-61a0df55b306",
   "metadata": {
    "tags": []
   },
   "outputs": [],
   "source": [
    "from langchain.document_loaders import TextLoader\n",
    "from langchain.text_splitter import CharacterTextSplitter\n",
    "loader = TextLoader(filename ,encoding='utf-8')\n",
    "documents = loader.load()"
   ]
  },
  {
   "cell_type": "code",
   "execution_count": null,
   "id": "34b173ed-72e7-48bc-936d-8d388d806ed0",
   "metadata": {
    "tags": []
   },
   "outputs": [],
   "source": [
    "text_splitter = CharacterTextSplitter(chunk_size=1000, chunk_overlap=0)\n",
    "texts = text_splitter.split_documents(documents)"
   ]
  },
  {
   "cell_type": "code",
   "execution_count": null,
   "id": "1183f5d9-cce1-4d22-808d-8f9a43b169ae",
   "metadata": {
    "tags": []
   },
   "outputs": [],
   "source": [
    "import os\n",
    "from dotenv import load_dotenv\n",
    "# Load the .env file\n",
    "load_dotenv()\n",
    "# Get the values from the .env file\n",
    "user = os.getenv(\"user\")\n",
    "password = os.getenv(\"password\")\n",
    "database = os.getenv(\"database\")\n",
    "server = os.getenv(\"server\")\n",
    "print(\"User:\", user)\n",
    "print(\"Database:\", database)"
   ]
  },
  {
   "cell_type": "code",
   "execution_count": null,
   "id": "982aa1e7-87e3-4aae-8a17-0e3c4bf98cd1",
   "metadata": {
    "tags": []
   },
   "outputs": [],
   "source": [
    "# Construct the connection string\n",
    "CONNECTION_STRING = f\"postgresql+psycopg://{user}:{password}@{server}/{database}\"\n",
    "CONNECTION_STRING = f\"postgresql://{user}:{password}@{server}/{database}\"\n",
    "\n",
    "# Print the connection string\n",
    "#print(CONNECTION_STRING)"
   ]
  },
  {
   "cell_type": "code",
   "execution_count": null,
   "id": "d3b12014-22f6-49ee-b34d-bf74aeb8b313",
   "metadata": {
    "tags": []
   },
   "outputs": [],
   "source": [
    "import psycopg2\n",
    "\n",
    "conn = psycopg2.connect(\n",
    "    host=server,\n",
    "    database=\"vectordb\",\n",
    "    user=\"vectordb\",\n",
    "    password=password\n",
    ")\n",
    "\n",
    "cur = conn.cursor()\n",
    "cur.execute(\"SELECT 1\")\n",
    "print(cur.fetchone())  # Should print (1,)\n",
    "conn.close()\n"
   ]
  },
  {
   "cell_type": "code",
   "execution_count": null,
   "id": "f06d4695-a9ee-4397-8177-aee0b6777667",
   "metadata": {
    "tags": []
   },
   "outputs": [],
   "source": [
    "import os\n",
    "from dotenv import load_dotenv\n",
    "import psycopg2\n",
    "\n",
    "# Construct the connection string\n",
    "CONNECTION_STRING = f\"postgresql://{user}:{password}@{server}/{database}\"\n",
    "#print(CONNECTION_STRING)"
   ]
  },
  {
   "cell_type": "code",
   "execution_count": null,
   "id": "fc1bc605-5e96-4333-999b-4395c3585362",
   "metadata": {
    "tags": []
   },
   "outputs": [],
   "source": [
    "# Create a connection to the database\n",
    "conn = psycopg2.connect(CONNECTION_STRING)\n",
    "\n",
    "# Create a cursor object to execute queries\n",
    "cur = conn.cursor()\n",
    "\n",
    "# Execute the SQL command\n",
    "cur.execute(\"\"\"\n",
    "    CREATE EXTENSION IF NOT EXISTS vector;\n",
    "    CREATE TABLE IF NOT EXISTS embeddings (\n",
    "      id SERIAL PRIMARY KEY,\n",
    "      embedding vector,\n",
    "      text text,\n",
    "      created_at timestamptz DEFAULT now()\n",
    "    );\n",
    "\"\"\")\n",
    "\n",
    "# Commit the changes\n",
    "conn.commit()\n",
    "\n",
    "# Close the cursor and connection\n",
    "cur.close()\n",
    "conn.close()"
   ]
  },
  {
   "cell_type": "code",
   "execution_count": null,
   "id": "1cbfe2e0-e245-498b-a5c7-f9d96759e8d3",
   "metadata": {
    "tags": []
   },
   "outputs": [],
   "source": [
    "# Create a connection to the database\n",
    "conn = psycopg2.connect(CONNECTION_STRING)\n",
    "\n",
    "# Create a cursor object to execute queries\n",
    "cur = conn.cursor()\n",
    "\n",
    "# Check if the table exists\n",
    "cur.execute(\"SELECT EXISTS (SELECT 1 FROM information_schema.tables WHERE table_name = 'embeddings')\")\n",
    "table_exists = cur.fetchone()[0]\n",
    "\n",
    "if table_exists:\n",
    "    print(\"Table 'embeddings' exists!\")\n",
    "else:\n",
    "    print(\"Table 'embeddings' does not exist.\")\n",
    "\n",
    "# Get the schema of the table\n",
    "cur.execute(\"SELECT column_name, data_type FROM information_schema.columns WHERE table_name = 'embeddings'\")\n",
    "schema = cur.fetchall()\n",
    "\n",
    "print(\"Schema of table 'embeddings':\")\n",
    "for column in schema:\n",
    "    print(f\"  {column[0]}: {column[1]}\")\n",
    "\n",
    "# Close the cursor and connection\n",
    "cur.close()\n",
    "conn.close()"
   ]
  },
  {
   "cell_type": "code",
   "execution_count": null,
   "id": "c964eb5a-34a2-4cc4-b55a-f98591f78849",
   "metadata": {
    "tags": []
   },
   "outputs": [],
   "source": [
    "from langchain.document_loaders import PyPDFDirectoryLoader\n",
    "from langchain.text_splitter import RecursiveCharacterTextSplitter\n",
    "from langchain.embeddings.huggingface import HuggingFaceEmbeddings\n",
    "from langchain.vectorstores.pgvector import PGVector"
   ]
  },
  {
   "cell_type": "code",
   "execution_count": null,
   "id": "66eabdce-f5a0-4f7d-b9fc-fba8251f0e15",
   "metadata": {
    "tags": []
   },
   "outputs": [],
   "source": [
    "import os\n",
    "import wget\n",
    "\n",
    "pdf_folder_path = './rhods-doc'\n",
    "filename = 'Vector_database.pdf'\n",
    "url = 'https://github.com/ruslanmv/WatsonX-with-Langchain-PostgreSQL-with-pgvector/raw/master/rhods-doc/Vector_database.pdf'\n",
    "\n",
    "# Create the directory if it doesn't exist\n",
    "if not os.path.exists(pdf_folder_path):\n",
    "    os.makedirs(pdf_folder_path)\n",
    "\n",
    "full_path = os.path.join(pdf_folder_path, filename)\n",
    "\n",
    "if not os.path.isfile(full_path):\n",
    "    wget.download(url, out=full_path)\n"
   ]
  },
  {
   "cell_type": "code",
   "execution_count": null,
   "id": "c47a71b2-3ad1-4a32-90e2-3ccc763ad899",
   "metadata": {
    "tags": []
   },
   "outputs": [],
   "source": [
    "\n",
    "loader = PyPDFDirectoryLoader(pdf_folder_path)\n",
    "docs = loader.load()"
   ]
  },
  {
   "cell_type": "code",
   "execution_count": null,
   "id": "bd09ecda-d04b-4674-8014-cf4e94b8ba3e",
   "metadata": {
    "tags": []
   },
   "outputs": [],
   "source": [
    "text_splitter = RecursiveCharacterTextSplitter(chunk_size=1024,\n",
    "                                               chunk_overlap=40)\n",
    "all_splits_pdfs = text_splitter.split_documents(docs)\n"
   ]
  },
  {
   "cell_type": "code",
   "execution_count": null,
   "id": "b438848a-d093-4244-8742-a707fd81d8bc",
   "metadata": {
    "tags": []
   },
   "outputs": [],
   "source": [
    "all_splits_pdfs[0]"
   ]
  },
  {
   "cell_type": "code",
   "execution_count": null,
   "id": "326d0b9b-f8da-45da-939b-5b591653b891",
   "metadata": {
    "tags": []
   },
   "outputs": [],
   "source": [
    "for doc in all_splits_pdfs:\n",
    "    doc.page_content = doc.page_content.replace('\\x00', '')"
   ]
  },
  {
   "cell_type": "code",
   "execution_count": null,
   "id": "e5236f1f-91a8-426b-92ab-719d2a58f984",
   "metadata": {
    "tags": []
   },
   "outputs": [],
   "source": [
    "embeddings = HuggingFaceEmbeddings()\n",
    "\n",
    "COLLECTION_NAME = \"documents_test\"\n",
    "\n",
    "db = PGVector.from_documents(\n",
    "    documents=all_splits_pdfs,\n",
    "    embedding=embeddings,\n",
    "    collection_name=COLLECTION_NAME,\n",
    "    connection_string=CONNECTION_STRING,)"
   ]
  },
  {
   "cell_type": "code",
   "execution_count": null,
   "id": "921eb1b1-7b34-45f8-b368-76cb99763e4d",
   "metadata": {
    "tags": []
   },
   "outputs": [],
   "source": [
    "from ibm_watson_machine_learning.foundation_models.utils.enums import ModelTypes\n",
    "\n"
   ]
  },
  {
   "cell_type": "code",
   "execution_count": null,
   "id": "bf8a4d18-c819-4565-9ff1-6df1e5110aae",
   "metadata": {
    "tags": []
   },
   "outputs": [],
   "source": [
    "#model_id = ModelTypes.GRANITE_13B_CHAT\n",
    "model_id = \"ibm/granite-13b-instruct-v2\""
   ]
  },
  {
   "cell_type": "code",
   "execution_count": null,
   "id": "3a6a2323-8d27-47d4-b4ad-921fea3f284f",
   "metadata": {
    "tags": []
   },
   "outputs": [],
   "source": [
    "from ibm_watson_machine_learning.metanames import GenTextParamsMetaNames as GenParams\n",
    "from ibm_watson_machine_learning.foundation_models.utils.enums import DecodingMethods\n",
    "\n"
   ]
  },
  {
   "cell_type": "code",
   "execution_count": null,
   "id": "a61727d4-1426-4d18-9101-aace3a845563",
   "metadata": {
    "tags": []
   },
   "outputs": [],
   "source": [
    "project_id = os.getenv(\"PROJECT_ID\", None)\n",
    "credentials = {\n",
    "    #\"url\":  \"https://eu-de.ml.cloud.ibm.com\",\n",
    "    \"url\": \"https://us-south.ml.cloud.ibm.com\",\n",
    "    \"apikey\": os.getenv(\"API_KEY\", None)\n",
    "}"
   ]
  },
  {
   "cell_type": "code",
   "execution_count": null,
   "id": "69911573-d098-41a8-a55b-b49694d84208",
   "metadata": {
    "tags": []
   },
   "outputs": [],
   "source": [
    "credentials.get(\"url\")"
   ]
  },
  {
   "cell_type": "code",
   "execution_count": null,
   "id": "85581272-0058-45d7-9f4d-e543832a9edc",
   "metadata": {
    "tags": []
   },
   "outputs": [],
   "source": [
    "credentials.get(\"apikey\")"
   ]
  },
  {
   "cell_type": "code",
   "execution_count": null,
   "id": "f3c83869-0674-4571-915f-b1f2af5ded17",
   "metadata": {
    "tags": []
   },
   "outputs": [],
   "source": [
    "# Create an instance of WatsonxLLM\n",
    "# WatsonxLLM initialization\n",
    "parameters = {\n",
    "    GenParams.DECODING_METHOD: DecodingMethods.SAMPLE.value,\n",
    "    GenParams.MAX_NEW_TOKENS: 1000,\n",
    "    GenParams.MIN_NEW_TOKENS: 50,\n",
    "    GenParams.TEMPERATURE: 0.7,\n",
    "    GenParams.TOP_K: 50,\n",
    "    GenParams.TOP_P: 1\n",
    "}"
   ]
  },
  {
   "cell_type": "code",
   "execution_count": null,
   "id": "426548d5-e626-491f-b3b1-26fafca0376a",
   "metadata": {
    "tags": []
   },
   "outputs": [],
   "source": [
    "from ibm_watson_machine_learning.metanames import GenTextParamsMetaNames as GenParams\n",
    "from ibm_watson_machine_learning.foundation_models.utils.enums import DecodingMethods\n",
    "from langchain.llms import WatsonxLLM"
   ]
  },
  {
   "cell_type": "code",
   "execution_count": null,
   "id": "8d655f89-b965-491f-8530-da15e7af4852",
   "metadata": {
    "tags": []
   },
   "outputs": [],
   "source": [
    "parameters = {\n",
    "    GenParams.DECODING_METHOD: DecodingMethods.GREEDY,\n",
    "    GenParams.MIN_NEW_TOKENS: 1,\n",
    "    GenParams.MAX_NEW_TOKENS: 200,\n",
    "    GenParams.STOP_SEQUENCES: [\"<|endoftext|>\"]\n",
    "}"
   ]
  },
  {
   "cell_type": "code",
   "execution_count": null,
   "id": "5f7a0ff2-cd5e-4285-874b-3454764ebd2d",
   "metadata": {
    "tags": []
   },
   "outputs": [],
   "source": [
    "from langchain.llms import WatsonxLLM\n",
    "watsonx_granite = WatsonxLLM(\n",
    "    model_id=model_id,\n",
    "    url=credentials.get(\"url\"),\n",
    "    apikey=credentials.get(\"apikey\"),\n",
    "    project_id=project_id,\n",
    "    params=parameters\n",
    ")"
   ]
  }
 ],
 "metadata": {
  "kernelspec": {
   "display_name": "Python 3.9",
   "language": "python",
   "name": "python3"
  },
  "language_info": {
   "codemirror_mode": {
    "name": "ipython",
    "version": 3
   },
   "file_extension": ".py",
   "mimetype": "text/x-python",
   "name": "python",
   "nbconvert_exporter": "python",
   "pygments_lexer": "ipython3",
   "version": "3.9.18"
  }
 },
 "nbformat": 4,
 "nbformat_minor": 5
}
